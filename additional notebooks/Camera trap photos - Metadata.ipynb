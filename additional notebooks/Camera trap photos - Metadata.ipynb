{
 "cells": [
  {
   "cell_type": "markdown",
   "id": "e92ae96a",
   "metadata": {},
   "source": [
    "# Reading the date and time fomr the metadata of camera trap pictures"
   ]
  },
  {
   "cell_type": "markdown",
   "id": "6cad2e27",
   "metadata": {},
   "source": [
    "***"
   ]
  },
  {
   "cell_type": "markdown",
   "id": "03cdcc6e",
   "metadata": {},
   "source": [
    "Credit to **Kamil Nowakowski** <Kamil.Nowakowski@hnee.de> for kindly providing the images and problem definition!\n",
    "\n",
    "FIT - Eberswalde 2023"
   ]
  },
  {
   "cell_type": "markdown",
   "id": "0f0ea779",
   "metadata": {},
   "source": [
    "***"
   ]
  },
  {
   "cell_type": "markdown",
   "id": "5344aa5d",
   "metadata": {},
   "source": [
    "<img src='images/camera_trap_images_sample/IMAG0024.JPG' width='300'>"
   ]
  },
  {
   "cell_type": "markdown",
   "id": "fa34d192",
   "metadata": {},
   "source": [
    "***"
   ]
  },
  {
   "cell_type": "markdown",
   "id": "e2d5b1f7",
   "metadata": {},
   "source": [
    "This notebook shows several things:\n",
    "    \n",
    "* how to open several files in a folder\n",
    "* how to import a custom library with a function, to reuse code\n",
    "* how to extract metadata from images and store it in a table\n",
    "* how to reformat a date using pandas: **pd.to_datetime**"
   ]
  },
  {
   "cell_type": "markdown",
   "id": "5e29f723",
   "metadata": {},
   "source": [
    "**Problem definition**\n",
    "\n",
    "Camera traps deliver images which often contain the date and time of the shots. It is necessary to have this information available to perform further analysis. Typying the date and time manually consumes time and is error prone.\n",
    "\n",
    "The proposed solution is to iterate over the images in a folder, extract the date and time, reformat it and produce a summary table with the information from all the image files."
   ]
  },
  {
   "cell_type": "markdown",
   "id": "1f673a81",
   "metadata": {},
   "source": [
    "<img src='images/camera_trap_images_sample/IMAG0277.JPG' width='300'>"
   ]
  },
  {
   "cell_type": "markdown",
   "id": "3719c29e",
   "metadata": {},
   "source": [
    "***"
   ]
  },
  {
   "cell_type": "markdown",
   "id": "40e22156",
   "metadata": {},
   "source": [
    "## Import libraries"
   ]
  },
  {
   "cell_type": "code",
   "execution_count": 1,
   "id": "7fe48c8a",
   "metadata": {},
   "outputs": [],
   "source": [
    "import os"
   ]
  },
  {
   "cell_type": "code",
   "execution_count": 2,
   "id": "e4b104d5",
   "metadata": {},
   "outputs": [],
   "source": [
    "import metadata"
   ]
  },
  {
   "cell_type": "code",
   "execution_count": 3,
   "id": "05e283ca",
   "metadata": {},
   "outputs": [],
   "source": [
    "# Uncomment this line to show the function \n",
    "# get_metadata() in the script\n",
    "\n",
    "# metadata.get_metadata??"
   ]
  },
  {
   "cell_type": "markdown",
   "id": "52210607",
   "metadata": {},
   "source": [
    "## Get a list of files in the folder"
   ]
  },
  {
   "cell_type": "markdown",
   "id": "b1eff545",
   "metadata": {},
   "source": [
    "*listdir* delivers a list with all the files in the specified folder"
   ]
  },
  {
   "cell_type": "markdown",
   "id": "5145aaec",
   "metadata": {},
   "source": [
    "Take care of the folder structure! The file names do not contain the folder, it has to be appended!"
   ]
  },
  {
   "cell_type": "code",
   "execution_count": 4,
   "id": "02d01709",
   "metadata": {},
   "outputs": [],
   "source": [
    "images_to_read = os.listdir( 'images/camera_trap_images_sample/' )"
   ]
  },
  {
   "cell_type": "code",
   "execution_count": 5,
   "id": "46e2fafb",
   "metadata": {},
   "outputs": [],
   "source": [
    "#images_to_read"
   ]
  },
  {
   "cell_type": "markdown",
   "id": "8c7506f0",
   "metadata": {},
   "source": [
    "<img src='images/camera_trap_images_sample/IMAG0082.JPG' width='300'>"
   ]
  },
  {
   "cell_type": "markdown",
   "id": "0ba9b1bd",
   "metadata": {},
   "source": [
    "## Iterate over the images and get the dates"
   ]
  },
  {
   "cell_type": "markdown",
   "id": "8bc50f71",
   "metadata": {},
   "source": [
    "Here we use a function previously coded to extract the exif metadata in the images. This function is in the *metadata.py* file that is located in the same folder as this notebook."
   ]
  },
  {
   "cell_type": "markdown",
   "id": "77cf559f",
   "metadata": {},
   "source": [
    "We iterate over the elements in the list of files previously retrieved and, for each of those files:\n",
    "\n",
    "* extract the metadata using the previously coded function\n",
    "* get the information under the tag 'DateTimeOriginal'\n",
    "* put the information into a list (originally empty)"
   ]
  },
  {
   "cell_type": "code",
   "execution_count": 6,
   "id": "f2a1d50a",
   "metadata": {},
   "outputs": [],
   "source": [
    "dates = []\n",
    "for image in images_to_read:\n",
    "    md = metadata.get_metadata( 'images/camera_trap_images_sample/'+image )\n",
    "    dates = dates + [md['DateTimeOriginal']]"
   ]
  },
  {
   "cell_type": "code",
   "execution_count": 7,
   "id": "a7ea9cbf",
   "metadata": {},
   "outputs": [],
   "source": [
    "#dates"
   ]
  },
  {
   "cell_type": "markdown",
   "id": "b5f2ef91",
   "metadata": {},
   "source": [
    "## Create a table with name of the file and date-time"
   ]
  },
  {
   "cell_type": "code",
   "execution_count": 8,
   "id": "6048520d",
   "metadata": {},
   "outputs": [],
   "source": [
    "import pandas as pd"
   ]
  },
  {
   "cell_type": "markdown",
   "id": "710a8b7c",
   "metadata": {},
   "source": [
    "Create a pandas dataframe from two lists. It can be done in different ways, the next cells yield equivalent results."
   ]
  },
  {
   "cell_type": "code",
   "execution_count": 9,
   "id": "1cc8466c",
   "metadata": {},
   "outputs": [
    {
     "data": {
      "text/html": [
       "<div>\n",
       "<style scoped>\n",
       "    .dataframe tbody tr th:only-of-type {\n",
       "        vertical-align: middle;\n",
       "    }\n",
       "\n",
       "    .dataframe tbody tr th {\n",
       "        vertical-align: top;\n",
       "    }\n",
       "\n",
       "    .dataframe thead th {\n",
       "        text-align: right;\n",
       "    }\n",
       "</style>\n",
       "<table border=\"1\" class=\"dataframe\">\n",
       "  <thead>\n",
       "    <tr style=\"text-align: right;\">\n",
       "      <th></th>\n",
       "      <th>files</th>\n",
       "      <th>dates</th>\n",
       "    </tr>\n",
       "  </thead>\n",
       "  <tbody>\n",
       "    <tr>\n",
       "      <th>0</th>\n",
       "      <td>IMAG0082.JPG</td>\n",
       "      <td>2021:01:18 16:31:45</td>\n",
       "    </tr>\n",
       "    <tr>\n",
       "      <th>1</th>\n",
       "      <td>IMAG0411.JPG</td>\n",
       "      <td>2020:11:21 17:00:49</td>\n",
       "    </tr>\n",
       "    <tr>\n",
       "      <th>2</th>\n",
       "      <td>IMAG0114.JPG</td>\n",
       "      <td>2020:10:30 16:27:09</td>\n",
       "    </tr>\n",
       "    <tr>\n",
       "      <th>3</th>\n",
       "      <td>IMAG1711.jpg</td>\n",
       "      <td>2020:09:09 14:29:20</td>\n",
       "    </tr>\n",
       "    <tr>\n",
       "      <th>4</th>\n",
       "      <td>IMAG0083.JPG</td>\n",
       "      <td>2021:05:19 04:23:23</td>\n",
       "    </tr>\n",
       "    <tr>\n",
       "      <th>5</th>\n",
       "      <td>IMAG0030.JPG</td>\n",
       "      <td>2021:02:10 11:34:34</td>\n",
       "    </tr>\n",
       "    <tr>\n",
       "      <th>6</th>\n",
       "      <td>IMAG0024.JPG</td>\n",
       "      <td>2021:06:08 05:05:25</td>\n",
       "    </tr>\n",
       "    <tr>\n",
       "      <th>7</th>\n",
       "      <td>IMAG0277.JPG</td>\n",
       "      <td>2021:01:27 12:46:35</td>\n",
       "    </tr>\n",
       "    <tr>\n",
       "      <th>8</th>\n",
       "      <td>IMAG0090.JPG</td>\n",
       "      <td>2021:02:02 02:45:22</td>\n",
       "    </tr>\n",
       "  </tbody>\n",
       "</table>\n",
       "</div>"
      ],
      "text/plain": [
       "          files                dates\n",
       "0  IMAG0082.JPG  2021:01:18 16:31:45\n",
       "1  IMAG0411.JPG  2020:11:21 17:00:49\n",
       "2  IMAG0114.JPG  2020:10:30 16:27:09\n",
       "3  IMAG1711.jpg  2020:09:09 14:29:20\n",
       "4  IMAG0083.JPG  2021:05:19 04:23:23\n",
       "5  IMAG0030.JPG  2021:02:10 11:34:34\n",
       "6  IMAG0024.JPG  2021:06:08 05:05:25\n",
       "7  IMAG0277.JPG  2021:01:27 12:46:35\n",
       "8  IMAG0090.JPG  2021:02:02 02:45:22"
      ]
     },
     "execution_count": 9,
     "metadata": {},
     "output_type": "execute_result"
    }
   ],
   "source": [
    "df = pd.DataFrame( data={\"files\":images_to_read, \"dates\":dates} )\n",
    "df"
   ]
  },
  {
   "cell_type": "code",
   "execution_count": 10,
   "id": "30cdd718",
   "metadata": {},
   "outputs": [
    {
     "data": {
      "text/html": [
       "<div>\n",
       "<style scoped>\n",
       "    .dataframe tbody tr th:only-of-type {\n",
       "        vertical-align: middle;\n",
       "    }\n",
       "\n",
       "    .dataframe tbody tr th {\n",
       "        vertical-align: top;\n",
       "    }\n",
       "\n",
       "    .dataframe thead th {\n",
       "        text-align: right;\n",
       "    }\n",
       "</style>\n",
       "<table border=\"1\" class=\"dataframe\">\n",
       "  <thead>\n",
       "    <tr style=\"text-align: right;\">\n",
       "      <th></th>\n",
       "      <th>files</th>\n",
       "      <th>dates</th>\n",
       "    </tr>\n",
       "  </thead>\n",
       "  <tbody>\n",
       "    <tr>\n",
       "      <th>0</th>\n",
       "      <td>IMAG0082.JPG</td>\n",
       "      <td>2021:01:18 16:31:45</td>\n",
       "    </tr>\n",
       "    <tr>\n",
       "      <th>1</th>\n",
       "      <td>IMAG0411.JPG</td>\n",
       "      <td>2020:11:21 17:00:49</td>\n",
       "    </tr>\n",
       "    <tr>\n",
       "      <th>2</th>\n",
       "      <td>IMAG0114.JPG</td>\n",
       "      <td>2020:10:30 16:27:09</td>\n",
       "    </tr>\n",
       "    <tr>\n",
       "      <th>3</th>\n",
       "      <td>IMAG1711.jpg</td>\n",
       "      <td>2020:09:09 14:29:20</td>\n",
       "    </tr>\n",
       "    <tr>\n",
       "      <th>4</th>\n",
       "      <td>IMAG0083.JPG</td>\n",
       "      <td>2021:05:19 04:23:23</td>\n",
       "    </tr>\n",
       "    <tr>\n",
       "      <th>5</th>\n",
       "      <td>IMAG0030.JPG</td>\n",
       "      <td>2021:02:10 11:34:34</td>\n",
       "    </tr>\n",
       "    <tr>\n",
       "      <th>6</th>\n",
       "      <td>IMAG0024.JPG</td>\n",
       "      <td>2021:06:08 05:05:25</td>\n",
       "    </tr>\n",
       "    <tr>\n",
       "      <th>7</th>\n",
       "      <td>IMAG0277.JPG</td>\n",
       "      <td>2021:01:27 12:46:35</td>\n",
       "    </tr>\n",
       "    <tr>\n",
       "      <th>8</th>\n",
       "      <td>IMAG0090.JPG</td>\n",
       "      <td>2021:02:02 02:45:22</td>\n",
       "    </tr>\n",
       "  </tbody>\n",
       "</table>\n",
       "</div>"
      ],
      "text/plain": [
       "          files                dates\n",
       "0  IMAG0082.JPG  2021:01:18 16:31:45\n",
       "1  IMAG0411.JPG  2020:11:21 17:00:49\n",
       "2  IMAG0114.JPG  2020:10:30 16:27:09\n",
       "3  IMAG1711.jpg  2020:09:09 14:29:20\n",
       "4  IMAG0083.JPG  2021:05:19 04:23:23\n",
       "5  IMAG0030.JPG  2021:02:10 11:34:34\n",
       "6  IMAG0024.JPG  2021:06:08 05:05:25\n",
       "7  IMAG0277.JPG  2021:01:27 12:46:35\n",
       "8  IMAG0090.JPG  2021:02:02 02:45:22"
      ]
     },
     "execution_count": 10,
     "metadata": {},
     "output_type": "execute_result"
    }
   ],
   "source": [
    "table = [[a, b] for a, b in zip(images_to_read,dates)]\n",
    "df = pd.DataFrame(data=table, columns=['files','dates'])\n",
    "df"
   ]
  },
  {
   "cell_type": "markdown",
   "id": "37882ddc",
   "metadata": {},
   "source": [
    "### Change the format of the date, which has colon as separator **:**"
   ]
  },
  {
   "cell_type": "markdown",
   "id": "f6c62865",
   "metadata": {},
   "source": [
    "*pd.to_datetime* allows to specify the concrete format of date and time. Very often we have files with mixed formatting, in this particular case the year, month and day in the date are separated by colon, with the year at the beginning and the day at the end."
   ]
  },
  {
   "cell_type": "code",
   "execution_count": 11,
   "id": "a1ae394d",
   "metadata": {},
   "outputs": [],
   "source": [
    "df['Timestamp'] = pd.to_datetime(df['dates'],format='%Y:%m:%d %H:%M:%S')"
   ]
  },
  {
   "cell_type": "code",
   "execution_count": 12,
   "id": "d805c5a4",
   "metadata": {},
   "outputs": [
    {
     "data": {
      "text/html": [
       "<div>\n",
       "<style scoped>\n",
       "    .dataframe tbody tr th:only-of-type {\n",
       "        vertical-align: middle;\n",
       "    }\n",
       "\n",
       "    .dataframe tbody tr th {\n",
       "        vertical-align: top;\n",
       "    }\n",
       "\n",
       "    .dataframe thead th {\n",
       "        text-align: right;\n",
       "    }\n",
       "</style>\n",
       "<table border=\"1\" class=\"dataframe\">\n",
       "  <thead>\n",
       "    <tr style=\"text-align: right;\">\n",
       "      <th></th>\n",
       "      <th>files</th>\n",
       "      <th>dates</th>\n",
       "      <th>Timestamp</th>\n",
       "    </tr>\n",
       "  </thead>\n",
       "  <tbody>\n",
       "    <tr>\n",
       "      <th>0</th>\n",
       "      <td>IMAG0082.JPG</td>\n",
       "      <td>2021:01:18 16:31:45</td>\n",
       "      <td>2021-01-18 16:31:45</td>\n",
       "    </tr>\n",
       "    <tr>\n",
       "      <th>1</th>\n",
       "      <td>IMAG0411.JPG</td>\n",
       "      <td>2020:11:21 17:00:49</td>\n",
       "      <td>2020-11-21 17:00:49</td>\n",
       "    </tr>\n",
       "    <tr>\n",
       "      <th>2</th>\n",
       "      <td>IMAG0114.JPG</td>\n",
       "      <td>2020:10:30 16:27:09</td>\n",
       "      <td>2020-10-30 16:27:09</td>\n",
       "    </tr>\n",
       "    <tr>\n",
       "      <th>3</th>\n",
       "      <td>IMAG1711.jpg</td>\n",
       "      <td>2020:09:09 14:29:20</td>\n",
       "      <td>2020-09-09 14:29:20</td>\n",
       "    </tr>\n",
       "    <tr>\n",
       "      <th>4</th>\n",
       "      <td>IMAG0083.JPG</td>\n",
       "      <td>2021:05:19 04:23:23</td>\n",
       "      <td>2021-05-19 04:23:23</td>\n",
       "    </tr>\n",
       "    <tr>\n",
       "      <th>5</th>\n",
       "      <td>IMAG0030.JPG</td>\n",
       "      <td>2021:02:10 11:34:34</td>\n",
       "      <td>2021-02-10 11:34:34</td>\n",
       "    </tr>\n",
       "    <tr>\n",
       "      <th>6</th>\n",
       "      <td>IMAG0024.JPG</td>\n",
       "      <td>2021:06:08 05:05:25</td>\n",
       "      <td>2021-06-08 05:05:25</td>\n",
       "    </tr>\n",
       "    <tr>\n",
       "      <th>7</th>\n",
       "      <td>IMAG0277.JPG</td>\n",
       "      <td>2021:01:27 12:46:35</td>\n",
       "      <td>2021-01-27 12:46:35</td>\n",
       "    </tr>\n",
       "    <tr>\n",
       "      <th>8</th>\n",
       "      <td>IMAG0090.JPG</td>\n",
       "      <td>2021:02:02 02:45:22</td>\n",
       "      <td>2021-02-02 02:45:22</td>\n",
       "    </tr>\n",
       "  </tbody>\n",
       "</table>\n",
       "</div>"
      ],
      "text/plain": [
       "          files                dates           Timestamp\n",
       "0  IMAG0082.JPG  2021:01:18 16:31:45 2021-01-18 16:31:45\n",
       "1  IMAG0411.JPG  2020:11:21 17:00:49 2020-11-21 17:00:49\n",
       "2  IMAG0114.JPG  2020:10:30 16:27:09 2020-10-30 16:27:09\n",
       "3  IMAG1711.jpg  2020:09:09 14:29:20 2020-09-09 14:29:20\n",
       "4  IMAG0083.JPG  2021:05:19 04:23:23 2021-05-19 04:23:23\n",
       "5  IMAG0030.JPG  2021:02:10 11:34:34 2021-02-10 11:34:34\n",
       "6  IMAG0024.JPG  2021:06:08 05:05:25 2021-06-08 05:05:25\n",
       "7  IMAG0277.JPG  2021:01:27 12:46:35 2021-01-27 12:46:35\n",
       "8  IMAG0090.JPG  2021:02:02 02:45:22 2021-02-02 02:45:22"
      ]
     },
     "execution_count": 12,
     "metadata": {},
     "output_type": "execute_result"
    }
   ],
   "source": [
    "df"
   ]
  },
  {
   "cell_type": "markdown",
   "id": "488074a6",
   "metadata": {},
   "source": [
    "### Delete the *dates* column, it is not needed anymore"
   ]
  },
  {
   "cell_type": "code",
   "execution_count": 13,
   "id": "b637614a",
   "metadata": {},
   "outputs": [],
   "source": [
    "df = df.drop( ['dates'], axis='columns' )"
   ]
  },
  {
   "cell_type": "markdown",
   "id": "9bf79e2f",
   "metadata": {},
   "source": [
    "### Save the table to a CSV file, without the index"
   ]
  },
  {
   "cell_type": "code",
   "execution_count": 14,
   "id": "1040d67b",
   "metadata": {},
   "outputs": [],
   "source": [
    "df.to_csv( \"dates_cams.csv\", sep=\";\", index=False )"
   ]
  },
  {
   "cell_type": "markdown",
   "id": "198b6ba4",
   "metadata": {},
   "source": [
    "The table was saved to a file, with all file names in the folder and the corresponding date and time. It can be used to continue the analysis of the images."
   ]
  },
  {
   "cell_type": "markdown",
   "id": "93277cb9",
   "metadata": {},
   "source": [
    "<img src='images/camera_trap_images_sample/IMAG1711.jpg' width='300'>"
   ]
  },
  {
   "cell_type": "markdown",
   "id": "d2ebf0f9",
   "metadata": {},
   "source": [
    "***"
   ]
  }
 ],
 "metadata": {
  "kernelspec": {
   "display_name": "Python 3 (ipykernel)",
   "language": "python",
   "name": "python3"
  },
  "language_info": {
   "codemirror_mode": {
    "name": "ipython",
    "version": 3
   },
   "file_extension": ".py",
   "mimetype": "text/x-python",
   "name": "python",
   "nbconvert_exporter": "python",
   "pygments_lexer": "ipython3",
   "version": "3.9.6"
  }
 },
 "nbformat": 4,
 "nbformat_minor": 5
}
