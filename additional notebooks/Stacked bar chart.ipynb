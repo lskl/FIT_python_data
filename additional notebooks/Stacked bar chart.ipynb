{
 "cells": [
  {
   "cell_type": "markdown",
   "id": "21fda384",
   "metadata": {},
   "source": [
    "# Stacked bar chart"
   ]
  },
  {
   "cell_type": "markdown",
   "id": "6d98c9e4",
   "metadata": {},
   "source": [
    "This notebook shows how to make stacked bar charts using matplotlib. It has a minimal working example and then later uses data from Global Forest Watch to show a more complex diagram."
   ]
  },
  {
   "cell_type": "markdown",
   "id": "bdaa8e51",
   "metadata": {},
   "source": [
    "## Import libraries"
   ]
  },
  {
   "cell_type": "code",
   "execution_count": 1,
   "id": "f18fdc9c",
   "metadata": {
    "ExecuteTime": {
     "end_time": "2021-11-18T15:14:01.872973Z",
     "start_time": "2021-11-18T15:14:01.448716Z"
    }
   },
   "outputs": [],
   "source": [
    "import pandas as pd\n",
    "import matplotlib.pyplot as plt"
   ]
  },
  {
   "cell_type": "code",
   "execution_count": 2,
   "id": "6ac0935e",
   "metadata": {
    "ExecuteTime": {
     "end_time": "2021-11-18T15:14:01.876511Z",
     "start_time": "2021-11-18T15:14:01.874098Z"
    }
   },
   "outputs": [],
   "source": [
    "x = [1,2,3,4,5,6]"
   ]
  },
  {
   "cell_type": "code",
   "execution_count": 3,
   "id": "d0ef2be9",
   "metadata": {
    "ExecuteTime": {
     "end_time": "2021-11-18T15:14:01.885250Z",
     "start_time": "2021-11-18T15:14:01.877349Z"
    }
   },
   "outputs": [],
   "source": [
    "y2020 = [1,1,2,2,1,1]\n",
    "y2019 = [3,3,2,2,4,4]"
   ]
  },
  {
   "cell_type": "code",
   "execution_count": 4,
   "id": "6a2d2168",
   "metadata": {
    "ExecuteTime": {
     "end_time": "2021-11-18T15:14:01.981248Z",
     "start_time": "2021-11-18T15:14:01.886565Z"
    }
   },
   "outputs": [
    {
     "data": {
      "image/png": "[encoded data removed]",
      "text/plain": [
       "<Figure size 432x288 with 1 Axes>"
      ]
     },
     "metadata": {
      "needs_background": "light"
     },
     "output_type": "display_data"
    }
   ],
   "source": [
    "fig, ax = plt.subplots()\n",
    "\n",
    "ax.bar( x, y2019, color='black' )\n",
    "ax.bar( x, y2020, bottom=y2019, color='red' )\n",
    "\n",
    "plt.show()"
   ]
  },
  {
   "cell_type": "markdown",
   "id": "03252f89",
   "metadata": {},
   "source": [
    "## Stacked bar plot on deforestation data by year and main driver"
   ]
  },
  {
   "cell_type": "markdown",
   "id": "bcf2efb3",
   "metadata": {},
   "source": [
    "Data from Global Forest Watch:\n",
    "\n",
    "https://globalforestwatch.org/dashboards/global/?category=summary&dashboardPrompts=eyJzaG93UHJvbXB0cyI6dHJ1ZSwicHJvbXB0c1ZpZXdlZCI6WyJzdWJzY3JpYmVUb0FyZWEiLCJ2aWV3TmF0aW9uYWxEYXNoYm9hcmRzIiwiZGFzaGJvYXJkQW5hbHlzZXMiLCJkb3dubG9hZERhc2hib2FyZFN0YXRzIiwid2lkZ2V0U2V0dGluZ3MiXSwic2V0dGluZ3MiOnsic2hvd1Byb21wdHMiOnRydWUsInByb21wdHNWaWV3ZWQiOlsiZG93bmxvYWREYXNoYm9hcmRTdGF0cyIsIndpZGdldFNldHRpbmdzIiwic2hhcmVXaWRnZXQiXSwic2V0dGluZ3MiOnsic2hvd1Byb21wdHMiOnRydWUsInByb21wdHNWaWV3ZWQiOlsiZG93bmxvYWREYXNoYm9hcmRTdGF0cyIsIndpZGdldFNldHRpbmdzIl0sInNldHRpbmdzIjp7InNob3dQcm9tcHRzIjp0cnVlLCJwcm9tcHRzVmlld2VkIjpbImRvd25sb2FkRGFzaGJvYXJkU3RhdHMiLCJ3aWRnZXRTZXR0aW5ncyJdLCJzZXR0aW5ncyI6eyJzaG93UHJvbXB0cyI6dHJ1ZSwicHJvbXB0c1ZpZXdlZCI6WyJkb3dubG9hZERhc2hib2FyZFN0YXRzIl0sInNldHRpbmdzIjp7InNob3dQcm9tcHRzIjp0cnVlLCJwcm9tcHRzVmlld2VkIjpbXSwic2V0dGluZ3MiOnsib3BlbiI6ZmFsc2UsInN0ZXBJbmRleCI6MCwic3RlcHNLZXkiOiIifSwib3BlbiI6dHJ1ZSwic3RlcEluZGV4IjowLCJzdGVwc0tleSI6ImRvd25sb2FkRGFzaGJvYXJkU3RhdHMifSwib3BlbiI6dHJ1ZSwic3RlcEluZGV4IjowLCJzdGVwc0tleSI6IndpZGdldFNldHRpbmdzIn0sInN0ZXBzS2V5Ijoid2lkZ2V0U2V0dGluZ3MiLCJzdGVwSW5kZXgiOjAsIm9wZW4iOmZhbHNlLCJmb3JjZSI6dHJ1ZX0sIm9wZW4iOnRydWUsInN0ZXBJbmRleCI6MCwic3RlcHNLZXkiOiJzaGFyZVdpZGdldCJ9LCJzdGVwc0tleSI6InNoYXJlV2lkZ2V0IiwiZm9yY2UiOnRydWV9LCJvcGVuIjp0cnVlLCJzdGVwc0tleSI6InNoYXJlV2lkZ2V0In0%3D&location=WyJnbG9iYWwiXQ%3D%3D&map=eyJkYXRhc2V0cyI6W3sib3BhY2l0eSI6MC43LCJ2aXNpYmlsaXR5Ijp0cnVlLCJkYXRhc2V0IjoicHJpbWFyeS1mb3Jlc3RzIiwibGF5ZXJzIjpbInByaW1hcnktZm9yZXN0cy0yMDAxIl19LHsiZGF0YXNldCI6InBvbGl0aWNhbC1ib3VuZGFyaWVzIiwibGF5ZXJzIjpbImRpc3B1dGVkLXBvbGl0aWNhbC1ib3VuZGFyaWVzIiwicG9saXRpY2FsLWJvdW5kYXJpZXMiXSwiYm91bmRhcnkiOnRydWUsIm9wYWNpdHkiOjEsInZpc2liaWxpdHkiOnRydWV9LHsiZGF0YXNldCI6InRyZWUtY292ZXItbG9zcyIsImxheWVycyI6WyJ0cmVlLWNvdmVyLWxvc3MiXSwib3BhY2l0eSI6MSwidmlzaWJpbGl0eSI6dHJ1ZSwidGltZWxpbmVQYXJhbXMiOnsic3RhcnREYXRlIjoiMjAwMi0wMS0wMSIsImVuZERhdGUiOiIyMDIwLTEyLTMxIiwidHJpbUVuZERhdGUiOiIyMDIwLTEyLTMxIn0sInBhcmFtcyI6eyJ0aHJlc2hvbGQiOjMwLCJ2aXNpYmlsaXR5Ijp0cnVlfX1dfQ%3D%3D&showMap=true&treeLossTsc=eyJoaWdobGlnaHRlZCI6ZmFsc2V9"
   ]
  },
  {
   "cell_type": "code",
   "execution_count": 5,
   "id": "bb80cd80",
   "metadata": {
    "ExecuteTime": {
     "end_time": "2021-11-18T15:14:01.993240Z",
     "start_time": "2021-11-18T15:14:01.982250Z"
    }
   },
   "outputs": [
    {
     "data": {
      "text/html": [
       "<div>\n",
       "<style scoped>\n",
       "    .dataframe tbody tr th:only-of-type {\n",
       "        vertical-align: middle;\n",
       "    }\n",
       "\n",
       "    .dataframe tbody tr th {\n",
       "        vertical-align: top;\n",
       "    }\n",
       "\n",
       "    .dataframe thead th {\n",
       "        text-align: right;\n",
       "    }\n",
       "</style>\n",
       "<table border=\"1\" class=\"dataframe\">\n",
       "  <thead>\n",
       "    <tr style=\"text-align: right;\">\n",
       "      <th></th>\n",
       "      <th>tsc_tree_cover_loss_drivers__type</th>\n",
       "      <th>umd_tree_cover_loss__year</th>\n",
       "      <th>umd_tree_cover_loss__ha</th>\n",
       "      <th>gfw_gross_emissions_co2e_all_gases__Mg</th>\n",
       "    </tr>\n",
       "  </thead>\n",
       "  <tbody>\n",
       "    <tr>\n",
       "      <th>0</th>\n",
       "      <td>Commodity driven deforestation</td>\n",
       "      <td>2001</td>\n",
       "      <td>3.360286e+06</td>\n",
       "      <td>1.574992e+09</td>\n",
       "    </tr>\n",
       "    <tr>\n",
       "      <th>1</th>\n",
       "      <td>Commodity driven deforestation</td>\n",
       "      <td>2002</td>\n",
       "      <td>4.237508e+06</td>\n",
       "      <td>2.124000e+09</td>\n",
       "    </tr>\n",
       "    <tr>\n",
       "      <th>2</th>\n",
       "      <td>Commodity driven deforestation</td>\n",
       "      <td>2003</td>\n",
       "      <td>3.892338e+06</td>\n",
       "      <td>1.856203e+09</td>\n",
       "    </tr>\n",
       "    <tr>\n",
       "      <th>3</th>\n",
       "      <td>Commodity driven deforestation</td>\n",
       "      <td>2004</td>\n",
       "      <td>5.554805e+06</td>\n",
       "      <td>2.935352e+09</td>\n",
       "    </tr>\n",
       "    <tr>\n",
       "      <th>4</th>\n",
       "      <td>Commodity driven deforestation</td>\n",
       "      <td>2005</td>\n",
       "      <td>5.054306e+06</td>\n",
       "      <td>2.813565e+09</td>\n",
       "    </tr>\n",
       "    <tr>\n",
       "      <th>...</th>\n",
       "      <td>...</td>\n",
       "      <td>...</td>\n",
       "      <td>...</td>\n",
       "      <td>...</td>\n",
       "    </tr>\n",
       "    <tr>\n",
       "      <th>115</th>\n",
       "      <td>Wildfire</td>\n",
       "      <td>2016</td>\n",
       "      <td>5.703573e+06</td>\n",
       "      <td>9.409635e+08</td>\n",
       "    </tr>\n",
       "    <tr>\n",
       "      <th>116</th>\n",
       "      <td>Wildfire</td>\n",
       "      <td>2017</td>\n",
       "      <td>6.302546e+06</td>\n",
       "      <td>1.185452e+09</td>\n",
       "    </tr>\n",
       "    <tr>\n",
       "      <th>117</th>\n",
       "      <td>Wildfire</td>\n",
       "      <td>2018</td>\n",
       "      <td>6.335118e+06</td>\n",
       "      <td>1.188237e+09</td>\n",
       "    </tr>\n",
       "    <tr>\n",
       "      <th>118</th>\n",
       "      <td>Wildfire</td>\n",
       "      <td>2019</td>\n",
       "      <td>4.131342e+06</td>\n",
       "      <td>7.383749e+08</td>\n",
       "    </tr>\n",
       "    <tr>\n",
       "      <th>119</th>\n",
       "      <td>Wildfire</td>\n",
       "      <td>2020</td>\n",
       "      <td>4.389445e+06</td>\n",
       "      <td>8.973097e+08</td>\n",
       "    </tr>\n",
       "  </tbody>\n",
       "</table>\n",
       "<p>120 rows × 4 columns</p>\n",
       "</div>"
      ],
      "text/plain": [
       "    tsc_tree_cover_loss_drivers__type  umd_tree_cover_loss__year  \\\n",
       "0      Commodity driven deforestation                       2001   \n",
       "1      Commodity driven deforestation                       2002   \n",
       "2      Commodity driven deforestation                       2003   \n",
       "3      Commodity driven deforestation                       2004   \n",
       "4      Commodity driven deforestation                       2005   \n",
       "..                                ...                        ...   \n",
       "115                          Wildfire                       2016   \n",
       "116                          Wildfire                       2017   \n",
       "117                          Wildfire                       2018   \n",
       "118                          Wildfire                       2019   \n",
       "119                          Wildfire                       2020   \n",
       "\n",
       "     umd_tree_cover_loss__ha  gfw_gross_emissions_co2e_all_gases__Mg  \n",
       "0               3.360286e+06                            1.574992e+09  \n",
       "1               4.237508e+06                            2.124000e+09  \n",
       "2               3.892338e+06                            1.856203e+09  \n",
       "3               5.554805e+06                            2.935352e+09  \n",
       "4               5.054306e+06                            2.813565e+09  \n",
       "..                       ...                                     ...  \n",
       "115             5.703573e+06                            9.409635e+08  \n",
       "116             6.302546e+06                            1.185452e+09  \n",
       "117             6.335118e+06                            1.188237e+09  \n",
       "118             4.131342e+06                            7.383749e+08  \n",
       "119             4.389445e+06                            8.973097e+08  \n",
       "\n",
       "[120 rows x 4 columns]"
      ]
     },
     "execution_count": 5,
     "metadata": {},
     "output_type": "execute_result"
    }
   ],
   "source": [
    "df_deforestation = pd.read_csv( 'data/Global annual tree cover loss by dominant driver/treecover_loss__ha.csv' )\n",
    "df_deforestation"
   ]
  },
  {
   "cell_type": "code",
   "execution_count": 6,
   "id": "3f1d7b2a",
   "metadata": {
    "ExecuteTime": {
     "end_time": "2021-11-18T15:14:02.001242Z",
     "start_time": "2021-11-18T15:14:01.994100Z"
    }
   },
   "outputs": [
    {
     "data": {
      "text/html": [
       "<div>\n",
       "<style scoped>\n",
       "    .dataframe tbody tr th:only-of-type {\n",
       "        vertical-align: middle;\n",
       "    }\n",
       "\n",
       "    .dataframe tbody tr th {\n",
       "        vertical-align: top;\n",
       "    }\n",
       "\n",
       "    .dataframe thead th {\n",
       "        text-align: right;\n",
       "    }\n",
       "</style>\n",
       "<table border=\"1\" class=\"dataframe\">\n",
       "  <thead>\n",
       "    <tr style=\"text-align: right;\">\n",
       "      <th></th>\n",
       "      <th>tsc_tree_cover_loss_drivers__type</th>\n",
       "      <th>umd_tree_cover_loss__year</th>\n",
       "      <th>umd_tree_cover_loss__ha</th>\n",
       "      <th>gfw_gross_emissions_co2e_all_gases__Mg</th>\n",
       "    </tr>\n",
       "  </thead>\n",
       "  <tbody>\n",
       "    <tr>\n",
       "      <th>0</th>\n",
       "      <td>Commodity driven deforestation</td>\n",
       "      <td>2001</td>\n",
       "      <td>3.360286e+06</td>\n",
       "      <td>1.574992e+09</td>\n",
       "    </tr>\n",
       "    <tr>\n",
       "      <th>20</th>\n",
       "      <td>Forestry</td>\n",
       "      <td>2001</td>\n",
       "      <td>4.582731e+06</td>\n",
       "      <td>1.372822e+09</td>\n",
       "    </tr>\n",
       "    <tr>\n",
       "      <th>40</th>\n",
       "      <td>Shifting agriculture</td>\n",
       "      <td>2001</td>\n",
       "      <td>2.871926e+06</td>\n",
       "      <td>1.269244e+09</td>\n",
       "    </tr>\n",
       "    <tr>\n",
       "      <th>60</th>\n",
       "      <td>Unknown</td>\n",
       "      <td>2001</td>\n",
       "      <td>2.021257e+05</td>\n",
       "      <td>5.619412e+07</td>\n",
       "    </tr>\n",
       "    <tr>\n",
       "      <th>80</th>\n",
       "      <td>Urbanization</td>\n",
       "      <td>2001</td>\n",
       "      <td>1.962512e+05</td>\n",
       "      <td>6.149543e+07</td>\n",
       "    </tr>\n",
       "    <tr>\n",
       "      <th>100</th>\n",
       "      <td>Wildfire</td>\n",
       "      <td>2001</td>\n",
       "      <td>2.141253e+06</td>\n",
       "      <td>3.265667e+08</td>\n",
       "    </tr>\n",
       "  </tbody>\n",
       "</table>\n",
       "</div>"
      ],
      "text/plain": [
       "    tsc_tree_cover_loss_drivers__type  umd_tree_cover_loss__year  \\\n",
       "0      Commodity driven deforestation                       2001   \n",
       "20                           Forestry                       2001   \n",
       "40               Shifting agriculture                       2001   \n",
       "60                            Unknown                       2001   \n",
       "80                       Urbanization                       2001   \n",
       "100                          Wildfire                       2001   \n",
       "\n",
       "     umd_tree_cover_loss__ha  gfw_gross_emissions_co2e_all_gases__Mg  \n",
       "0               3.360286e+06                            1.574992e+09  \n",
       "20              4.582731e+06                            1.372822e+09  \n",
       "40              2.871926e+06                            1.269244e+09  \n",
       "60              2.021257e+05                            5.619412e+07  \n",
       "80              1.962512e+05                            6.149543e+07  \n",
       "100             2.141253e+06                            3.265667e+08  "
      ]
     },
     "execution_count": 6,
     "metadata": {},
     "output_type": "execute_result"
    }
   ],
   "source": [
    "df_deforestation[ df_deforestation['umd_tree_cover_loss__year']==2001 ]"
   ]
  },
  {
   "cell_type": "code",
   "execution_count": 7,
   "id": "d5da93d7",
   "metadata": {
    "ExecuteTime": {
     "end_time": "2021-11-18T15:14:02.007858Z",
     "start_time": "2021-11-18T15:14:02.002104Z"
    }
   },
   "outputs": [
    {
     "data": {
      "text/plain": [
       "array([2001, 2002, 2003, 2004, 2005, 2006, 2007, 2008, 2009, 2010, 2011,\n",
       "       2012, 2013, 2014, 2015, 2016, 2017, 2018, 2019, 2020])"
      ]
     },
     "execution_count": 7,
     "metadata": {},
     "output_type": "execute_result"
    }
   ],
   "source": [
    "years = df_deforestation['umd_tree_cover_loss__year'].unique()\n",
    "years"
   ]
  },
  {
   "cell_type": "code",
   "execution_count": 8,
   "id": "28176600",
   "metadata": {
    "ExecuteTime": {
     "end_time": "2021-11-18T15:14:02.013767Z",
     "start_time": "2021-11-18T15:14:02.008896Z"
    }
   },
   "outputs": [
    {
     "data": {
      "text/plain": [
       "array(['Commodity driven deforestation', 'Forestry',\n",
       "       'Shifting agriculture', 'Unknown', 'Urbanization', 'Wildfire'],\n",
       "      dtype=object)"
      ]
     },
     "execution_count": 8,
     "metadata": {},
     "output_type": "execute_result"
    }
   ],
   "source": [
    "drivers = df_deforestation['tsc_tree_cover_loss_drivers__type'].unique()\n",
    "drivers"
   ]
  },
  {
   "cell_type": "code",
   "execution_count": 9,
   "id": "2cd43e22",
   "metadata": {
    "ExecuteTime": {
     "end_time": "2021-11-18T15:14:02.026313Z",
     "start_time": "2021-11-18T15:14:02.014714Z"
    }
   },
   "outputs": [
    {
     "data": {
      "text/html": [
       "<div>\n",
       "<style scoped>\n",
       "    .dataframe tbody tr th:only-of-type {\n",
       "        vertical-align: middle;\n",
       "    }\n",
       "\n",
       "    .dataframe tbody tr th {\n",
       "        vertical-align: top;\n",
       "    }\n",
       "\n",
       "    .dataframe thead th {\n",
       "        text-align: right;\n",
       "    }\n",
       "</style>\n",
       "<table border=\"1\" class=\"dataframe\">\n",
       "  <thead>\n",
       "    <tr style=\"text-align: right;\">\n",
       "      <th></th>\n",
       "      <th>tsc_tree_cover_loss_drivers__type</th>\n",
       "      <th>umd_tree_cover_loss__year</th>\n",
       "      <th>umd_tree_cover_loss__ha</th>\n",
       "      <th>gfw_gross_emissions_co2e_all_gases__Mg</th>\n",
       "    </tr>\n",
       "  </thead>\n",
       "  <tbody>\n",
       "    <tr>\n",
       "      <th>0</th>\n",
       "      <td>Commodity driven deforestation</td>\n",
       "      <td>2001</td>\n",
       "      <td>3.360286e+06</td>\n",
       "      <td>1.574992e+09</td>\n",
       "    </tr>\n",
       "    <tr>\n",
       "      <th>1</th>\n",
       "      <td>Commodity driven deforestation</td>\n",
       "      <td>2002</td>\n",
       "      <td>4.237508e+06</td>\n",
       "      <td>2.124000e+09</td>\n",
       "    </tr>\n",
       "    <tr>\n",
       "      <th>2</th>\n",
       "      <td>Commodity driven deforestation</td>\n",
       "      <td>2003</td>\n",
       "      <td>3.892338e+06</td>\n",
       "      <td>1.856203e+09</td>\n",
       "    </tr>\n",
       "    <tr>\n",
       "      <th>3</th>\n",
       "      <td>Commodity driven deforestation</td>\n",
       "      <td>2004</td>\n",
       "      <td>5.554805e+06</td>\n",
       "      <td>2.935352e+09</td>\n",
       "    </tr>\n",
       "    <tr>\n",
       "      <th>4</th>\n",
       "      <td>Commodity driven deforestation</td>\n",
       "      <td>2005</td>\n",
       "      <td>5.054306e+06</td>\n",
       "      <td>2.813565e+09</td>\n",
       "    </tr>\n",
       "    <tr>\n",
       "      <th>5</th>\n",
       "      <td>Commodity driven deforestation</td>\n",
       "      <td>2006</td>\n",
       "      <td>4.563209e+06</td>\n",
       "      <td>2.538174e+09</td>\n",
       "    </tr>\n",
       "    <tr>\n",
       "      <th>6</th>\n",
       "      <td>Commodity driven deforestation</td>\n",
       "      <td>2007</td>\n",
       "      <td>4.882340e+06</td>\n",
       "      <td>2.621116e+09</td>\n",
       "    </tr>\n",
       "    <tr>\n",
       "      <th>7</th>\n",
       "      <td>Commodity driven deforestation</td>\n",
       "      <td>2008</td>\n",
       "      <td>4.843854e+06</td>\n",
       "      <td>2.557764e+09</td>\n",
       "    </tr>\n",
       "    <tr>\n",
       "      <th>8</th>\n",
       "      <td>Commodity driven deforestation</td>\n",
       "      <td>2009</td>\n",
       "      <td>5.064887e+06</td>\n",
       "      <td>2.868137e+09</td>\n",
       "    </tr>\n",
       "    <tr>\n",
       "      <th>9</th>\n",
       "      <td>Commodity driven deforestation</td>\n",
       "      <td>2010</td>\n",
       "      <td>5.222072e+06</td>\n",
       "      <td>2.840173e+09</td>\n",
       "    </tr>\n",
       "    <tr>\n",
       "      <th>10</th>\n",
       "      <td>Commodity driven deforestation</td>\n",
       "      <td>2011</td>\n",
       "      <td>4.924844e+06</td>\n",
       "      <td>2.731563e+09</td>\n",
       "    </tr>\n",
       "    <tr>\n",
       "      <th>11</th>\n",
       "      <td>Commodity driven deforestation</td>\n",
       "      <td>2012</td>\n",
       "      <td>6.465956e+06</td>\n",
       "      <td>3.715040e+09</td>\n",
       "    </tr>\n",
       "    <tr>\n",
       "      <th>12</th>\n",
       "      <td>Commodity driven deforestation</td>\n",
       "      <td>2013</td>\n",
       "      <td>4.063570e+06</td>\n",
       "      <td>2.245599e+09</td>\n",
       "    </tr>\n",
       "    <tr>\n",
       "      <th>13</th>\n",
       "      <td>Commodity driven deforestation</td>\n",
       "      <td>2014</td>\n",
       "      <td>5.722549e+06</td>\n",
       "      <td>3.256005e+09</td>\n",
       "    </tr>\n",
       "    <tr>\n",
       "      <th>14</th>\n",
       "      <td>Commodity driven deforestation</td>\n",
       "      <td>2015</td>\n",
       "      <td>4.937989e+06</td>\n",
       "      <td>2.815901e+09</td>\n",
       "    </tr>\n",
       "    <tr>\n",
       "      <th>15</th>\n",
       "      <td>Commodity driven deforestation</td>\n",
       "      <td>2016</td>\n",
       "      <td>8.519116e+06</td>\n",
       "      <td>4.833701e+09</td>\n",
       "    </tr>\n",
       "    <tr>\n",
       "      <th>16</th>\n",
       "      <td>Commodity driven deforestation</td>\n",
       "      <td>2017</td>\n",
       "      <td>6.781758e+06</td>\n",
       "      <td>3.714456e+09</td>\n",
       "    </tr>\n",
       "    <tr>\n",
       "      <th>17</th>\n",
       "      <td>Commodity driven deforestation</td>\n",
       "      <td>2018</td>\n",
       "      <td>5.053808e+06</td>\n",
       "      <td>2.826275e+09</td>\n",
       "    </tr>\n",
       "    <tr>\n",
       "      <th>18</th>\n",
       "      <td>Commodity driven deforestation</td>\n",
       "      <td>2019</td>\n",
       "      <td>5.191351e+06</td>\n",
       "      <td>2.911877e+09</td>\n",
       "    </tr>\n",
       "    <tr>\n",
       "      <th>19</th>\n",
       "      <td>Commodity driven deforestation</td>\n",
       "      <td>2020</td>\n",
       "      <td>5.058482e+06</td>\n",
       "      <td>2.828289e+09</td>\n",
       "    </tr>\n",
       "  </tbody>\n",
       "</table>\n",
       "</div>"
      ],
      "text/plain": [
       "   tsc_tree_cover_loss_drivers__type  umd_tree_cover_loss__year  \\\n",
       "0     Commodity driven deforestation                       2001   \n",
       "1     Commodity driven deforestation                       2002   \n",
       "2     Commodity driven deforestation                       2003   \n",
       "3     Commodity driven deforestation                       2004   \n",
       "4     Commodity driven deforestation                       2005   \n",
       "5     Commodity driven deforestation                       2006   \n",
       "6     Commodity driven deforestation                       2007   \n",
       "7     Commodity driven deforestation                       2008   \n",
       "8     Commodity driven deforestation                       2009   \n",
       "9     Commodity driven deforestation                       2010   \n",
       "10    Commodity driven deforestation                       2011   \n",
       "11    Commodity driven deforestation                       2012   \n",
       "12    Commodity driven deforestation                       2013   \n",
       "13    Commodity driven deforestation                       2014   \n",
       "14    Commodity driven deforestation                       2015   \n",
       "15    Commodity driven deforestation                       2016   \n",
       "16    Commodity driven deforestation                       2017   \n",
       "17    Commodity driven deforestation                       2018   \n",
       "18    Commodity driven deforestation                       2019   \n",
       "19    Commodity driven deforestation                       2020   \n",
       "\n",
       "    umd_tree_cover_loss__ha  gfw_gross_emissions_co2e_all_gases__Mg  \n",
       "0              3.360286e+06                            1.574992e+09  \n",
       "1              4.237508e+06                            2.124000e+09  \n",
       "2              3.892338e+06                            1.856203e+09  \n",
       "3              5.554805e+06                            2.935352e+09  \n",
       "4              5.054306e+06                            2.813565e+09  \n",
       "5              4.563209e+06                            2.538174e+09  \n",
       "6              4.882340e+06                            2.621116e+09  \n",
       "7              4.843854e+06                            2.557764e+09  \n",
       "8              5.064887e+06                            2.868137e+09  \n",
       "9              5.222072e+06                            2.840173e+09  \n",
       "10             4.924844e+06                            2.731563e+09  \n",
       "11             6.465956e+06                            3.715040e+09  \n",
       "12             4.063570e+06                            2.245599e+09  \n",
       "13             5.722549e+06                            3.256005e+09  \n",
       "14             4.937989e+06                            2.815901e+09  \n",
       "15             8.519116e+06                            4.833701e+09  \n",
       "16             6.781758e+06                            3.714456e+09  \n",
       "17             5.053808e+06                            2.826275e+09  \n",
       "18             5.191351e+06                            2.911877e+09  \n",
       "19             5.058482e+06                            2.828289e+09  "
      ]
     },
     "execution_count": 9,
     "metadata": {},
     "output_type": "execute_result"
    }
   ],
   "source": [
    "driver1 = df_deforestation[ df_deforestation['tsc_tree_cover_loss_drivers__type']=='Commodity driven deforestation' ]\n",
    "driver1"
   ]
  },
  {
   "cell_type": "code",
   "execution_count": 10,
   "id": "80a74bde",
   "metadata": {
    "ExecuteTime": {
     "end_time": "2021-11-18T15:14:02.174390Z",
     "start_time": "2021-11-18T15:14:02.028203Z"
    }
   },
   "outputs": [
    {
     "data": {
      "image/png": "[encoded data removed]",
      "text/plain": [
       "<Figure size 432x288 with 1 Axes>"
      ]
     },
     "metadata": {
      "needs_background": "light"
     },
     "output_type": "display_data"
    }
   ],
   "source": [
    "fig, ax = plt.subplots()\n",
    "\n",
    "ax.bar( driver1['umd_tree_cover_loss__year'], driver1['umd_tree_cover_loss__ha'], color='red', label='Commodity driven deforestation' )\n",
    "\n",
    "ax.set_xticks( years )\n",
    "ax.set_xticklabels( years, rotation=90 )\n",
    "\n",
    "ax.legend()\n",
    "\n",
    "plt.show()"
   ]
  },
  {
   "cell_type": "code",
   "execution_count": 11,
   "id": "6c8fd60b",
   "metadata": {
    "ExecuteTime": {
     "end_time": "2021-11-18T15:14:02.178034Z",
     "start_time": "2021-11-18T15:14:02.175287Z"
    }
   },
   "outputs": [],
   "source": [
    "driver2 = df_deforestation[ df_deforestation['tsc_tree_cover_loss_drivers__type']=='Forestry' ]"
   ]
  },
  {
   "cell_type": "code",
   "execution_count": 12,
   "id": "167383cd",
   "metadata": {
    "ExecuteTime": {
     "end_time": "2021-11-18T15:14:02.358329Z",
     "start_time": "2021-11-18T15:14:02.178938Z"
    }
   },
   "outputs": [
    {
     "data": {
      "image/png": "[encoded data removed]",
      "text/plain": [
       "<Figure size 432x288 with 1 Axes>"
      ]
     },
     "metadata": {
      "needs_background": "light"
     },
     "output_type": "display_data"
    }
   ],
   "source": [
    "fig, ax = plt.subplots()\n",
    "\n",
    "ax.bar( driver1['umd_tree_cover_loss__year'], driver1['umd_tree_cover_loss__ha'], color='red', label='Commodity driven deforestation' )\n",
    "ax.bar( driver1['umd_tree_cover_loss__year'], driver2['umd_tree_cover_loss__ha'], color='green', label='Forestry', bottom=driver1['umd_tree_cover_loss__ha'] )\n",
    "\n",
    "ax.set_xticks( years )\n",
    "ax.set_xticklabels( years, rotation=90 )\n",
    "\n",
    "ax.legend()\n",
    "\n",
    "plt.show()"
   ]
  },
  {
   "cell_type": "markdown",
   "id": "803c593c",
   "metadata": {},
   "source": [
    "### Now let's make all drivers together"
   ]
  },
  {
   "cell_type": "code",
   "execution_count": 13,
   "id": "50bf1c38",
   "metadata": {
    "ExecuteTime": {
     "end_time": "2021-11-18T15:14:02.362378Z",
     "start_time": "2021-11-18T15:14:02.359222Z"
    }
   },
   "outputs": [
    {
     "data": {
      "text/plain": [
       "array(['Commodity driven deforestation', 'Forestry',\n",
       "       'Shifting agriculture', 'Unknown', 'Urbanization', 'Wildfire'],\n",
       "      dtype=object)"
      ]
     },
     "execution_count": 13,
     "metadata": {},
     "output_type": "execute_result"
    }
   ],
   "source": [
    "drivers"
   ]
  },
  {
   "cell_type": "code",
   "execution_count": 14,
   "id": "0cdf4b0f",
   "metadata": {
    "ExecuteTime": {
     "end_time": "2021-11-18T15:14:02.372648Z",
     "start_time": "2021-11-18T15:14:02.363247Z"
    }
   },
   "outputs": [],
   "source": [
    "driver1 = df_deforestation[ df_deforestation['tsc_tree_cover_loss_drivers__type']=='Commodity driven deforestation' ]\n",
    "driver2 = df_deforestation[ df_deforestation['tsc_tree_cover_loss_drivers__type']=='Forestry' ]\n",
    "driver3 = df_deforestation[ df_deforestation['tsc_tree_cover_loss_drivers__type']=='Shifting agriculture' ]\n",
    "driver4 = df_deforestation[ df_deforestation['tsc_tree_cover_loss_drivers__type']=='Unknown' ]\n",
    "driver5 = df_deforestation[ df_deforestation['tsc_tree_cover_loss_drivers__type']=='Urbanization' ]\n",
    "driver6 = df_deforestation[ df_deforestation['tsc_tree_cover_loss_drivers__type']=='Wildfire' ]"
   ]
  },
  {
   "cell_type": "code",
   "execution_count": 15,
   "id": "9fbd554d",
   "metadata": {
    "ExecuteTime": {
     "end_time": "2021-11-18T15:14:02.697390Z",
     "start_time": "2021-11-18T15:14:02.373761Z"
    }
   },
   "outputs": [
    {
     "data": {
      "image/png": "[encoded data removed]",
      "text/plain": [
       "<Figure size 432x288 with 1 Axes>"
      ]
     },
     "metadata": {
      "needs_background": "light"
     },
     "output_type": "display_data"
    }
   ],
   "source": [
    "fig, ax = plt.subplots()\n",
    "\n",
    "ax.bar( driver1['umd_tree_cover_loss__year'], driver1['umd_tree_cover_loss__ha'], color='blue', label='Commodity driven deforestation' )\n",
    "ax.bar( driver1['umd_tree_cover_loss__year'], driver2['umd_tree_cover_loss__ha'], color='green', label='Forestry', \n",
    "         bottom=driver1['umd_tree_cover_loss__ha'] )\n",
    "ax.bar( driver1['umd_tree_cover_loss__year'], driver3['umd_tree_cover_loss__ha'], color='yellow', label='Shifting agriculture', \n",
    "         bottom=driver1['umd_tree_cover_loss__ha'].values+driver2['umd_tree_cover_loss__ha'].values )\n",
    "ax.bar( driver1['umd_tree_cover_loss__year'], driver4['umd_tree_cover_loss__ha'], color='brown', label='Unknown', \n",
    "         bottom=driver1['umd_tree_cover_loss__ha'].values+driver2['umd_tree_cover_loss__ha'].values+\n",
    "         driver3['umd_tree_cover_loss__ha'].values)\n",
    "ax.bar( driver1['umd_tree_cover_loss__year'], driver5['umd_tree_cover_loss__ha'], color='black', label='Urbanization', \n",
    "         bottom=driver1['umd_tree_cover_loss__ha'].values+driver2['umd_tree_cover_loss__ha'].values+\n",
    "         driver3['umd_tree_cover_loss__ha'].values+driver4['umd_tree_cover_loss__ha'].values)\n",
    "ax.bar( driver1['umd_tree_cover_loss__year'], driver6['umd_tree_cover_loss__ha'], color='red', label='Wildfire', \n",
    "         bottom=driver1['umd_tree_cover_loss__ha'].values+driver2['umd_tree_cover_loss__ha'].values+\n",
    "         driver3['umd_tree_cover_loss__ha'].values+driver4['umd_tree_cover_loss__ha'].values+\n",
    "         driver5['umd_tree_cover_loss__ha'].values)\n",
    "\n",
    "ax.set_xticks( years )\n",
    "ax.set_xticklabels( years, rotation=90 )\n",
    "\n",
    "ax.legend()\n",
    "\n",
    "plt.show()"
   ]
  },
  {
   "cell_type": "markdown",
   "id": "41f9a5aa",
   "metadata": {},
   "source": [
    "### Improving the code for better legibility"
   ]
  },
  {
   "cell_type": "markdown",
   "id": "1a8b1178",
   "metadata": {},
   "source": [
    "The same code can be improved for legibility, first by using the previously defined 'years' variable for the values in the x axis:"
   ]
  },
  {
   "cell_type": "code",
   "execution_count": 16,
   "id": "f548dd08",
   "metadata": {
    "ExecuteTime": {
     "end_time": "2021-11-18T15:14:02.701227Z",
     "start_time": "2021-11-18T15:14:02.698354Z"
    }
   },
   "outputs": [
    {
     "data": {
      "text/plain": [
       "array([2001, 2002, 2003, 2004, 2005, 2006, 2007, 2008, 2009, 2010, 2011,\n",
       "       2012, 2013, 2014, 2015, 2016, 2017, 2018, 2019, 2020])"
      ]
     },
     "execution_count": 16,
     "metadata": {},
     "output_type": "execute_result"
    }
   ],
   "source": [
    "years"
   ]
  },
  {
   "cell_type": "markdown",
   "id": "0060b528",
   "metadata": {},
   "source": [
    "And also to define the variables driver1 to driver 6 to have the values of the cover loss instead of a part of the dataframe."
   ]
  },
  {
   "cell_type": "markdown",
   "id": "9d3f19d0",
   "metadata": {},
   "source": [
    "Now, they are defined as:"
   ]
  },
  {
   "cell_type": "code",
   "execution_count": 17,
   "id": "3236f200",
   "metadata": {
    "ExecuteTime": {
     "end_time": "2021-11-18T15:14:02.714461Z",
     "start_time": "2021-11-18T15:14:02.702077Z"
    }
   },
   "outputs": [
    {
     "name": "stdout",
     "output_type": "stream",
     "text": [
      "<class 'pandas.core.frame.DataFrame'>\n"
     ]
    },
    {
     "data": {
      "text/html": [
       "<div>\n",
       "<style scoped>\n",
       "    .dataframe tbody tr th:only-of-type {\n",
       "        vertical-align: middle;\n",
       "    }\n",
       "\n",
       "    .dataframe tbody tr th {\n",
       "        vertical-align: top;\n",
       "    }\n",
       "\n",
       "    .dataframe thead th {\n",
       "        text-align: right;\n",
       "    }\n",
       "</style>\n",
       "<table border=\"1\" class=\"dataframe\">\n",
       "  <thead>\n",
       "    <tr style=\"text-align: right;\">\n",
       "      <th></th>\n",
       "      <th>tsc_tree_cover_loss_drivers__type</th>\n",
       "      <th>umd_tree_cover_loss__year</th>\n",
       "      <th>umd_tree_cover_loss__ha</th>\n",
       "      <th>gfw_gross_emissions_co2e_all_gases__Mg</th>\n",
       "    </tr>\n",
       "  </thead>\n",
       "  <tbody>\n",
       "    <tr>\n",
       "      <th>0</th>\n",
       "      <td>Commodity driven deforestation</td>\n",
       "      <td>2001</td>\n",
       "      <td>3.360286e+06</td>\n",
       "      <td>1.574992e+09</td>\n",
       "    </tr>\n",
       "    <tr>\n",
       "      <th>1</th>\n",
       "      <td>Commodity driven deforestation</td>\n",
       "      <td>2002</td>\n",
       "      <td>4.237508e+06</td>\n",
       "      <td>2.124000e+09</td>\n",
       "    </tr>\n",
       "    <tr>\n",
       "      <th>2</th>\n",
       "      <td>Commodity driven deforestation</td>\n",
       "      <td>2003</td>\n",
       "      <td>3.892338e+06</td>\n",
       "      <td>1.856203e+09</td>\n",
       "    </tr>\n",
       "    <tr>\n",
       "      <th>3</th>\n",
       "      <td>Commodity driven deforestation</td>\n",
       "      <td>2004</td>\n",
       "      <td>5.554805e+06</td>\n",
       "      <td>2.935352e+09</td>\n",
       "    </tr>\n",
       "    <tr>\n",
       "      <th>4</th>\n",
       "      <td>Commodity driven deforestation</td>\n",
       "      <td>2005</td>\n",
       "      <td>5.054306e+06</td>\n",
       "      <td>2.813565e+09</td>\n",
       "    </tr>\n",
       "  </tbody>\n",
       "</table>\n",
       "</div>"
      ],
      "text/plain": [
       "  tsc_tree_cover_loss_drivers__type  umd_tree_cover_loss__year  \\\n",
       "0    Commodity driven deforestation                       2001   \n",
       "1    Commodity driven deforestation                       2002   \n",
       "2    Commodity driven deforestation                       2003   \n",
       "3    Commodity driven deforestation                       2004   \n",
       "4    Commodity driven deforestation                       2005   \n",
       "\n",
       "   umd_tree_cover_loss__ha  gfw_gross_emissions_co2e_all_gases__Mg  \n",
       "0             3.360286e+06                            1.574992e+09  \n",
       "1             4.237508e+06                            2.124000e+09  \n",
       "2             3.892338e+06                            1.856203e+09  \n",
       "3             5.554805e+06                            2.935352e+09  \n",
       "4             5.054306e+06                            2.813565e+09  "
      ]
     },
     "execution_count": 17,
     "metadata": {},
     "output_type": "execute_result"
    }
   ],
   "source": [
    "driver1 = df_deforestation[ df_deforestation['tsc_tree_cover_loss_drivers__type']=='Commodity driven deforestation' ]\n",
    "print( type(driver1) )\n",
    "driver1.head()"
   ]
  },
  {
   "cell_type": "markdown",
   "id": "39423e87",
   "metadata": {},
   "source": [
    "But we actually need only the values of the cover loss, so we can select only that column:"
   ]
  },
  {
   "cell_type": "code",
   "execution_count": 18,
   "id": "c8adfae4",
   "metadata": {
    "ExecuteTime": {
     "end_time": "2021-11-18T15:14:02.721914Z",
     "start_time": "2021-11-18T15:14:02.715299Z"
    }
   },
   "outputs": [
    {
     "name": "stdout",
     "output_type": "stream",
     "text": [
      "<class 'numpy.ndarray'>\n"
     ]
    },
    {
     "data": {
      "text/plain": [
       "array([3360285.81289345, 4237507.66078395, 3892338.35792229,\n",
       "       5554804.98457048, 5054306.1155284 , 4563208.78429001,\n",
       "       4882340.39339218, 4843854.42223318, 5064886.78024163,\n",
       "       5222072.21313631, 4924843.6339404 , 6465955.98097234,\n",
       "       4063569.60381234, 5722549.4492013 , 4937988.93235626,\n",
       "       8519116.45798013, 6781757.74837392, 5053807.52400818,\n",
       "       5191350.97953603, 5058481.8106283 ])"
      ]
     },
     "execution_count": 18,
     "metadata": {},
     "output_type": "execute_result"
    }
   ],
   "source": [
    "# Same query here:\n",
    "driver1 = df_deforestation[ df_deforestation['tsc_tree_cover_loss_drivers__type']=='Commodity driven deforestation' ]\n",
    "\n",
    "# But then select from that query only the column needed:\n",
    "driver1 = driver1['umd_tree_cover_loss__ha'].values\n",
    "\n",
    "print( type(driver1) )\n",
    "driver1"
   ]
  },
  {
   "cell_type": "markdown",
   "id": "a922e9d3",
   "metadata": {},
   "source": [
    "Now, driver1 is an array of values, instead of a dataframe. If we do that with all 6 drivers, the code on the graph will look a little better:"
   ]
  },
  {
   "cell_type": "code",
   "execution_count": 19,
   "id": "e209321c",
   "metadata": {
    "ExecuteTime": {
     "end_time": "2021-11-18T15:14:02.738887Z",
     "start_time": "2021-11-18T15:14:02.722778Z"
    }
   },
   "outputs": [],
   "source": [
    "driver1 = df_deforestation[ df_deforestation['tsc_tree_cover_loss_drivers__type']=='Commodity driven deforestation' ]\n",
    "driver1 = driver1['umd_tree_cover_loss__ha'].values\n",
    "\n",
    "driver2 = df_deforestation[ df_deforestation['tsc_tree_cover_loss_drivers__type']=='Forestry' ]\n",
    "driver2 = driver2['umd_tree_cover_loss__ha'].values\n",
    "\n",
    "driver3 = df_deforestation[ df_deforestation['tsc_tree_cover_loss_drivers__type']=='Shifting agriculture' ]\n",
    "driver3 = driver3['umd_tree_cover_loss__ha'].values\n",
    "\n",
    "driver4 = df_deforestation[ df_deforestation['tsc_tree_cover_loss_drivers__type']=='Unknown' ]\n",
    "driver4 = driver4['umd_tree_cover_loss__ha'].values\n",
    "\n",
    "driver5 = df_deforestation[ df_deforestation['tsc_tree_cover_loss_drivers__type']=='Urbanization' ]\n",
    "driver5 = driver5['umd_tree_cover_loss__ha'].values\n",
    "\n",
    "driver6 = df_deforestation[ df_deforestation['tsc_tree_cover_loss_drivers__type']=='Wildfire' ]\n",
    "driver6 = driver6['umd_tree_cover_loss__ha'].values\n"
   ]
  },
  {
   "cell_type": "code",
   "execution_count": 20,
   "id": "21049f04",
   "metadata": {
    "ExecuteTime": {
     "end_time": "2021-11-18T15:14:03.059574Z",
     "start_time": "2021-11-18T15:14:02.740723Z"
    }
   },
   "outputs": [
    {
     "data": {
      "image/png": "[encoded data removed]",
      "text/plain": [
       "<Figure size 1440x720 with 1 Axes>"
      ]
     },
     "metadata": {
      "needs_background": "light"
     },
     "output_type": "display_data"
    }
   ],
   "source": [
    "fig, ax = plt.subplots(figsize=(20,10))\n",
    "\n",
    "# -------------------------------------------\n",
    "ax.bar( years, driver1, color='blue', label='Commodity driven deforestation' )\n",
    "\n",
    "ax.bar( years, driver2, color='green', label='Forestry', \n",
    "         bottom=driver1 )\n",
    "\n",
    "ax.bar( years, driver3, color='yellow', label='Shifting agriculture', \n",
    "         bottom=driver1+driver2 )\n",
    "\n",
    "ax.bar( years, driver4, color='brown', label='Unknown', \n",
    "         bottom=driver1+driver2+driver3)\n",
    "\n",
    "ax.bar( years, driver5, color='black', label='Urbanization', \n",
    "         bottom=driver1+driver2+driver3+driver4)\n",
    "\n",
    "ax.bar( years, driver6, color='red', label='Wildfire', \n",
    "         bottom=driver1+driver2+driver3+driver4+driver5)\n",
    "# -------------------------------------------\n",
    "\n",
    "\n",
    "ax.set_xticks( years )\n",
    "ax.set_xticklabels( years, rotation=90 )\n",
    "\n",
    "ax.legend()\n",
    "\n",
    "plt.show()"
   ]
  },
  {
   "cell_type": "markdown",
   "id": "abf493ad",
   "metadata": {},
   "source": [
    "## Stacked bar chart using loops"
   ]
  },
  {
   "cell_type": "markdown",
   "id": "f503c40b",
   "metadata": {},
   "source": [
    "Here a complete script to import the data and make the stacked bar chart using loops to iterate over the deforestation drivers instead of defining variables individually."
   ]
  },
  {
   "cell_type": "markdown",
   "id": "eb1b2d90",
   "metadata": {},
   "source": [
    "### Import libraries and data"
   ]
  },
  {
   "cell_type": "code",
   "execution_count": 21,
   "id": "0ee63333",
   "metadata": {
    "ExecuteTime": {
     "end_time": "2021-11-18T15:14:03.062440Z",
     "start_time": "2021-11-18T15:14:03.060464Z"
    }
   },
   "outputs": [],
   "source": [
    "import pandas as pd\n",
    "import matplotlib.pyplot as plt"
   ]
  },
  {
   "cell_type": "code",
   "execution_count": 22,
   "id": "1b4790df",
   "metadata": {
    "ExecuteTime": {
     "end_time": "2021-11-18T15:14:03.072290Z",
     "start_time": "2021-11-18T15:14:03.063286Z"
    }
   },
   "outputs": [],
   "source": [
    "df_deforestation = pd.read_csv( 'data/Global annual tree cover loss by dominant driver/treecover_loss__ha.csv' )"
   ]
  },
  {
   "cell_type": "markdown",
   "id": "5376dda4",
   "metadata": {},
   "source": [
    "### Drivers and years"
   ]
  },
  {
   "cell_type": "markdown",
   "id": "13cd9dd5",
   "metadata": {},
   "source": [
    "Define two lists, deforestation drivers and years, to iterate over them when plotting"
   ]
  },
  {
   "cell_type": "code",
   "execution_count": 23,
   "id": "85cf3b9a",
   "metadata": {
    "ExecuteTime": {
     "end_time": "2021-11-18T15:14:03.076927Z",
     "start_time": "2021-11-18T15:14:03.073266Z"
    }
   },
   "outputs": [],
   "source": [
    "drivers = df_deforestation['tsc_tree_cover_loss_drivers__type'].unique()\n",
    "#print(drivers)\n",
    "\n",
    "years = df_deforestation['umd_tree_cover_loss__year'].unique()\n",
    "#print(years)"
   ]
  },
  {
   "cell_type": "markdown",
   "id": "fb450dbb",
   "metadata": {},
   "source": [
    "### Offset and colours"
   ]
  },
  {
   "cell_type": "markdown",
   "id": "50dc7f7d",
   "metadata": {},
   "source": [
    "Define a list to add the offset of the plots in each iteration: After plotting the first driver, the second, and so on. This offset is needed to set the bottom parameter of the bar diagram.\n",
    "\n",
    "At the beginning, the list is full of zeroes. Later the corresponding values will be added."
   ]
  },
  {
   "cell_type": "code",
   "execution_count": 24,
   "id": "9ba2af36",
   "metadata": {
    "ExecuteTime": {
     "end_time": "2021-11-18T15:14:03.082884Z",
     "start_time": "2021-11-18T15:14:03.077734Z"
    }
   },
   "outputs": [],
   "source": [
    "offset = [0]*len(years)\n",
    "#print(offset)"
   ]
  },
  {
   "cell_type": "markdown",
   "id": "6bf63ad8",
   "metadata": {},
   "source": [
    "And a list with colours to cycle over, one for each deforestation driver."
   ]
  },
  {
   "cell_type": "code",
   "execution_count": 25,
   "id": "a6509eb5",
   "metadata": {
    "ExecuteTime": {
     "end_time": "2021-11-18T15:14:03.090826Z",
     "start_time": "2021-11-18T15:14:03.084001Z"
    }
   },
   "outputs": [],
   "source": [
    "colours = [ 'red', 'blue', 'black', 'cyan', 'yellow', 'green' ]"
   ]
  },
  {
   "cell_type": "markdown",
   "id": "ff819325",
   "metadata": {},
   "source": [
    "### Plot"
   ]
  },
  {
   "cell_type": "markdown",
   "id": "2b9e08b9",
   "metadata": {},
   "source": [
    "Creation of the diagram, iteratively. The diagram is created with plt.subplots() and then the individual bars are added in each iteration, iterating over the list of drivers previously defined. The x-axis is the list of years."
   ]
  },
  {
   "cell_type": "code",
   "execution_count": 26,
   "id": "f38d2120",
   "metadata": {
    "ExecuteTime": {
     "end_time": "2021-11-18T15:14:03.651606Z",
     "start_time": "2021-11-18T15:14:03.094176Z"
    }
   },
   "outputs": [
    {
     "data": {
      "image/png": "[encoded data removed]",
      "text/plain": [
       "<Figure size 1440x720 with 1 Axes>"
      ]
     },
     "metadata": {
      "needs_background": "light"
     },
     "output_type": "display_data"
    }
   ],
   "source": [
    "fig, ax = plt.subplots(figsize=(20,10))\n",
    "\n",
    "# -------------------------------------------\n",
    "\n",
    "for i, drv in enumerate(drivers):\n",
    "    \n",
    "    yvals = df_deforestation[ df_deforestation['tsc_tree_cover_loss_drivers__type']==drv ]\n",
    "    yvals = yvals['umd_tree_cover_loss__ha'].values/1e6 # scaling to show millions of hectars\n",
    "    \n",
    "    ax.bar( years, yvals, color=colours[i], label=drv, bottom=offset )\n",
    "    offset = offset + yvals\n",
    "\n",
    "# -------------------------------------------\n",
    "\n",
    "ax.set_xticks( years )\n",
    "ax.set_xticklabels( years, rotation=60, fontsize=14 )\n",
    "ax.set_yticks( [0,10,15,20,25,30] )\n",
    "ax.set_yticklabels( [0,10,15,20,25,30], fontsize=14 )\n",
    "\n",
    "ax.set_xlabel( 'Year', fontsize=16 )\n",
    "ax.set_ylabel( 'Deforestation in millions of hectars $[x 10^6 ha]$', fontsize=16 )\n",
    "\n",
    "ax.legend(fancybox=True, fontsize=14)\n",
    "\n",
    "fig.suptitle( 'Deforestation area by driver and year', fontsize=20 )\n",
    "\n",
    "plt.tight_layout()\n",
    "plt.show()"
   ]
  },
  {
   "cell_type": "code",
   "execution_count": null,
   "id": "cc5187f8",
   "metadata": {},
   "outputs": [],
   "source": []
  }
 ],
 "metadata": {
  "kernelspec": {
   "display_name": "Python 3 (ipykernel)",
   "language": "python",
   "name": "python3"
  },
  "language_info": {
   "codemirror_mode": {
    "name": "ipython",
    "version": 3
   },
   "file_extension": ".py",
   "mimetype": "text/x-python",
   "name": "python",
   "nbconvert_exporter": "python",
   "pygments_lexer": "ipython3",
   "version": "3.8.10"
  },
  "toc": {
   "base_numbering": 1,
   "nav_menu": {},
   "number_sections": false,
   "sideBar": true,
   "skip_h1_title": true,
   "title_cell": "Table of Contents",
   "title_sidebar": "Contents",
   "toc_cell": false,
   "toc_position": {},
   "toc_section_display": true,
   "toc_window_display": false
  },
  "varInspector": {
   "cols": {
    "lenName": 16,
    "lenType": 16,
    "lenVar": 40
   },
   "kernels_config": {
    "python": {
     "delete_cmd_postfix": "",
     "delete_cmd_prefix": "del ",
     "library": "var_list.py",
     "varRefreshCmd": "print(var_dic_list())"
    },
    "r": {
     "delete_cmd_postfix": ") ",
     "delete_cmd_prefix": "rm(",
     "library": "var_list.r",
     "varRefreshCmd": "cat(var_dic_list()) "
    }
   },
   "types_to_exclude": [
    "module",
    "function",
    "builtin_function_or_method",
    "instance",
    "_Feature"
   ],
   "window_display": false
  }
 },
 "nbformat": 4,
 "nbformat_minor": 5
}
