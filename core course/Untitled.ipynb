{
 "cells": [
  {
   "cell_type": "markdown",
   "id": "b04f0c6e",
   "metadata": {},
   "source": [
    "# print(\"Hello, world!\")"
   ]
  },
  {
   "cell_type": "markdown",
   "id": "88c3a140",
   "metadata": {},
   "source": [
    "print(\"again\")"
   ]
  },
  {
   "cell_type": "code",
   "execution_count": 7,
   "id": "d7e69189",
   "metadata": {},
   "outputs": [],
   "source": [
    "import plantheight"
   ]
  },
  {
   "cell_type": "markdown",
   "id": "6656c99d",
   "metadata": {},
   "source": [
    "## Trial 1"
   ]
  },
  {
   "cell_type": "code",
   "execution_count": 11,
   "id": "f9cf2fda",
   "metadata": {},
   "outputs": [],
   "source": [
    "temps = [ 10, 12, 14, 5, 12 ]"
   ]
  },
  {
   "cell_type": "code",
   "execution_count": 12,
   "id": "e00050df",
   "metadata": {},
   "outputs": [],
   "source": [
    "base = 6"
   ]
  },
  {
   "cell_type": "code",
   "execution_count": 13,
   "id": "dfe9c450",
   "metadata": {},
   "outputs": [
    {
     "data": {
      "text/plain": [
       "[4, 10, 18, 18, 24]"
      ]
     },
     "execution_count": 13,
     "metadata": {},
     "output_type": "execute_result"
    }
   ],
   "source": [
    "plantheight.day_temperature_sums(temps, base)"
   ]
  },
  {
   "cell_type": "markdown",
   "id": "9762bad3",
   "metadata": {},
   "source": [
    "## Trial 2"
   ]
  },
  {
   "cell_type": "code",
   "execution_count": 14,
   "id": "44ee1ff2",
   "metadata": {},
   "outputs": [
    {
     "name": "stdout",
     "output_type": "stream",
     "text": [
      "[0.09368091262748109, 0.11184457822839206, 0.15085856025623398, 0.21601549986606833, 0.3183772393583522, 0.41573480907626137, 0.49427465568372986, 0.5382597650358708, 0.6107536436755555]\n"
     ]
    }
   ],
   "source": [
    "import plantheight\n",
    "\n",
    "temp_avg = [ 4, 5, 8, 10, 12, 10, 8, 5, 8 ]\n",
    "temp_base = 1\n",
    "\n",
    "dts = plantheight.day_temperature_sums( temp_avg, temp_base )\n",
    "\n",
    "b0 = 10\n",
    "b1 = 0.05\n",
    "max_height = 0.9 # in meters\n",
    "\n",
    "heights = []\n",
    "for element in dts:\n",
    "    current_height = plantheight.plant_height( element, max_height, b0, b1 )\n",
    "    heights = heights + [ current_height ]\n",
    "\n",
    "print( heights )"
   ]
  },
  {
   "cell_type": "code",
   "execution_count": null,
   "id": "6dfc5ca6",
   "metadata": {},
   "outputs": [],
   "source": []
  }
 ],
 "metadata": {
  "kernelspec": {
   "display_name": "Python 3",
   "language": "python",
   "name": "python3"
  },
  "language_info": {
   "codemirror_mode": {
    "name": "ipython",
    "version": 3
   },
   "file_extension": ".py",
   "mimetype": "text/x-python",
   "name": "python",
   "nbconvert_exporter": "python",
   "pygments_lexer": "ipython3",
   "version": "3.7.11"
  }
 },
 "nbformat": 4,
 "nbformat_minor": 5
}
