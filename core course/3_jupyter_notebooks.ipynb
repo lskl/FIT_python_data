{
 "cells": [
  {
   "cell_type": "markdown",
   "metadata": {
    "toc": true
   },
   "source": [
    "<h1>Table of Contents<span class=\"tocSkip\"></span></h1>\n",
    "<div class=\"toc\"><ul class=\"toc-item\"><li><span><a href=\"#Jupyter-notebooks\" data-toc-modified-id=\"Jupyter-notebooks-1\"><span class=\"toc-item-num\">1&nbsp;&nbsp;</span>Jupyter notebooks</a></span><ul class=\"toc-item\"><li><span><a href=\"#Interface\" data-toc-modified-id=\"Interface-1.1\"><span class=\"toc-item-num\">1.1&nbsp;&nbsp;</span>Interface</a></span></li><li><span><a href=\"#Kernels\" data-toc-modified-id=\"Kernels-1.2\"><span class=\"toc-item-num\">1.2&nbsp;&nbsp;</span>Kernels</a></span></li><li><span><a href=\"#Cell-types\" data-toc-modified-id=\"Cell-types-1.3\"><span class=\"toc-item-num\">1.3&nbsp;&nbsp;</span>Cell types</a></span></li><li><span><a href=\"#Edit-and-Command-modes\" data-toc-modified-id=\"Edit-and-Command-modes-1.4\"><span class=\"toc-item-num\">1.4&nbsp;&nbsp;</span>Edit and Command modes</a></span></li></ul></li><li><span><a href=\"#Coding-with-jupyter-notebooks\" data-toc-modified-id=\"Coding-with-jupyter-notebooks-2\"><span class=\"toc-item-num\">2&nbsp;&nbsp;</span>Coding with jupyter notebooks</a></span></li><li><span><a href=\"#Format-with-markdown-and-HTML\" data-toc-modified-id=\"Format-with-markdown-and-HTML-3\"><span class=\"toc-item-num\">3&nbsp;&nbsp;</span>Format with <strong><em>markdown</em></strong> and <em>HTML</em></a></span><ul class=\"toc-item\"><li><span><a href=\"#Markdown\" data-toc-modified-id=\"Markdown-3.1\"><span class=\"toc-item-num\">3.1&nbsp;&nbsp;</span><strong><em>Markdown</em></strong></a></span><ul class=\"toc-item\"><li><span><a href=\"#Titles-and-subtitles\" data-toc-modified-id=\"Titles-and-subtitles-3.1.1\"><span class=\"toc-item-num\">3.1.1&nbsp;&nbsp;</span>Titles and subtitles</a></span></li></ul></li></ul></li><li><span><a href=\"#Subtitle-2\" data-toc-modified-id=\"Subtitle-2-4\"><span class=\"toc-item-num\">4&nbsp;&nbsp;</span>Subtitle 2</a></span><ul class=\"toc-item\"><li><ul class=\"toc-item\"><li><span><a href=\"#Italics-and-bold\" data-toc-modified-id=\"Italics-and-bold-4.0.1\"><span class=\"toc-item-num\">4.0.1&nbsp;&nbsp;</span>Italics and bold</a></span></li><li><span><a href=\"#Item-lists\" data-toc-modified-id=\"Item-lists-4.0.2\"><span class=\"toc-item-num\">4.0.2&nbsp;&nbsp;</span>Item lists</a></span></li><li><span><a href=\"#Quotes\" data-toc-modified-id=\"Quotes-4.0.3\"><span class=\"toc-item-num\">4.0.3&nbsp;&nbsp;</span>Quotes</a></span></li><li><span><a href=\"#Horizontal-rules\" data-toc-modified-id=\"Horizontal-rules-4.0.4\"><span class=\"toc-item-num\">4.0.4&nbsp;&nbsp;</span>Horizontal rules</a></span></li><li><span><a href=\"#Hyperlinks\" data-toc-modified-id=\"Hyperlinks-4.0.5\"><span class=\"toc-item-num\">4.0.5&nbsp;&nbsp;</span>Hyperlinks</a></span></li><li><span><a href=\"#Equations\" data-toc-modified-id=\"Equations-4.0.6\"><span class=\"toc-item-num\">4.0.6&nbsp;&nbsp;</span>Equations</a></span></li><li><span><a href=\"#Images\" data-toc-modified-id=\"Images-4.0.7\"><span class=\"toc-item-num\">4.0.7&nbsp;&nbsp;</span>Images</a></span></li></ul></li><li><span><a href=\"#HTML\" data-toc-modified-id=\"HTML-4.1\"><span class=\"toc-item-num\">4.1&nbsp;&nbsp;</span>HTML</a></span><ul class=\"toc-item\"><li><span><a href=\"#Images-with-HTML\" data-toc-modified-id=\"Images-with-HTML-4.1.1\"><span class=\"toc-item-num\">4.1.1&nbsp;&nbsp;</span>Images with HTML</a></span></li><li><span><a href=\"#Centering-text\" data-toc-modified-id=\"Centering-text-4.1.2\"><span class=\"toc-item-num\">4.1.2&nbsp;&nbsp;</span>Centering text</a></span></li></ul></li></ul></li><li><span><a href=\"#Notebook-sharing-as-PDF-or-HTML-files.\" data-toc-modified-id=\"Notebook-sharing-as-PDF-or-HTML-files.-5\"><span class=\"toc-item-num\">5&nbsp;&nbsp;</span>Notebook sharing as PDF or HTML files.</a></span><ul class=\"toc-item\"><li><span><a href=\"#Export-as-PDF\" data-toc-modified-id=\"Export-as-PDF-5.1\"><span class=\"toc-item-num\">5.1&nbsp;&nbsp;</span>Export as PDF</a></span></li><li><span><a href=\"#Export-as-HTML\" data-toc-modified-id=\"Export-as-HTML-5.2\"><span class=\"toc-item-num\">5.2&nbsp;&nbsp;</span>Export as HTML</a></span></li><li><span><a href=\"#Publish-online\" data-toc-modified-id=\"Publish-online-5.3\"><span class=\"toc-item-num\">5.3&nbsp;&nbsp;</span>Publish online</a></span></li></ul></li><li><span><a href=\"#Links\" data-toc-modified-id=\"Links-6\"><span class=\"toc-item-num\">6&nbsp;&nbsp;</span>Links</a></span></li></ul></div>"
   ]
  },
  {
   "cell_type": "markdown",
   "metadata": {
    "slideshow": {
     "slide_type": "slide"
    }
   },
   "source": [
    "# jupyter notebooks"
   ]
  },
  {
   "cell_type": "markdown",
   "metadata": {
    "slideshow": {
     "slide_type": "slide"
    }
   },
   "source": [
    "## Jupyter notebooks"
   ]
  },
  {
   "cell_type": "markdown",
   "metadata": {
    "slideshow": {
     "slide_type": "subslide"
    }
   },
   "source": [
    "___jupyter notebook___ is a tool for developing and presenting  projects involving programming in ___python___, but also in ___julia___ or ___R___.\n",
    "\n",
    "Indeed, the name ___jupyter___ makes reference to those 3 supported programming languages."
   ]
  },
  {
   "cell_type": "markdown",
   "metadata": {
    "slideshow": {
     "slide_type": "subslide"
    }
   },
   "source": [
    "Two characteristics make notebooks very attractive:\n",
    "\n",
    "* For programming, the possibility to run smaller pieces of code and test them interactively, instead of having a single, big program.\n",
    "* For presentation or sharing, the rich formatting possibilities as well as the option to export the complete project as PDF or HTML file to share."
   ]
  },
  {
   "cell_type": "markdown",
   "metadata": {
    "slideshow": {
     "slide_type": "subslide"
    }
   },
   "source": [
    "### Interface"
   ]
  },
  {
   "cell_type": "markdown",
   "metadata": {
    "slideshow": {
     "slide_type": "subslide"
    }
   },
   "source": [
    "The anaconda bundle includes the jupyter notebook already.\n",
    "\n",
    "It can be launched either from the anaconda navigator interface, or directly typing _jupyter notebook_ in the start menu in windows:"
   ]
  },
  {
   "cell_type": "markdown",
   "metadata": {
    "slideshow": {
     "slide_type": "fragment"
    }
   },
   "source": [
    "<img src='misc/img/jupyter_win_menu.png' width='300'>"
   ]
  },
  {
   "cell_type": "markdown",
   "metadata": {
    "slideshow": {
     "slide_type": "subslide"
    }
   },
   "source": [
    "When jupyter is launched, it starts a server that runs in a web browser. The operation and editing of the notebooks will then be done in the browser, like here in _mozilla firefox_:"
   ]
  },
  {
   "cell_type": "markdown",
   "metadata": {
    "slideshow": {
     "slide_type": "fragment"
    }
   },
   "source": [
    "<img src='misc/img/delete_notebook.png' width='1000'>"
   ]
  },
  {
   "cell_type": "markdown",
   "metadata": {
    "slideshow": {
     "slide_type": "subslide"
    }
   },
   "source": [
    "The main screen shows a file and directory tree. From here, it is possible to navigate folders and open files. While it is possible to open text files and images (among others) in the browser, the main use of this dashboard panel is to create, rename and delete, to start and stop _notebooks_. In order to perform these actions, it is necessary to check the box to the left of the file(s) and then look for the desired action on top of the screen. By the way, it is also possible to create and delete folders from this screen."
   ]
  },
  {
   "cell_type": "markdown",
   "metadata": {
    "slideshow": {
     "slide_type": "fragment"
    }
   },
   "source": [
    "These notebooks are the documents where we will include code as well as output and formatted text and images."
   ]
  },
  {
   "cell_type": "markdown",
   "metadata": {
    "slideshow": {
     "slide_type": "subslide"
    }
   },
   "source": [
    "### Kernels"
   ]
  },
  {
   "cell_type": "markdown",
   "metadata": {
    "slideshow": {
     "slide_type": "subslide"
    }
   },
   "source": [
    "It is possible to create and run notebooks that execute code in a number of programming languages, like R or Julia. These languages are then referred to as ___kernels___.\n",
    "\n",
    "We will use the ___python 3___ kernel.\n",
    "\n",
    "(A list of available kernels can be consulted [in this link](https://github.com/jupyter/jupyter/wiki/Jupyter-kernels))"
   ]
  },
  {
   "cell_type": "markdown",
   "metadata": {
    "slideshow": {
     "slide_type": "fragment"
    }
   },
   "source": [
    "<img src='misc/img/python_kernel.png' width='1000'>"
   ]
  },
  {
   "cell_type": "markdown",
   "metadata": {
    "slideshow": {
     "slide_type": "subslide"
    }
   },
   "source": [
    "The ___kernel___ refers then to the programming language. It is often mentioned in messages like \"Kernel Idle\" or \"Kernel Busy\" in the menu bar (top right).\n",
    "\n",
    "Also in the menu bar, in the ___kernel___ menu, are commands to interrupt or restart it, which can be very useful if a piece of code is taking too long to execute:"
   ]
  },
  {
   "cell_type": "code",
   "execution_count": null,
   "metadata": {
    "ExecuteTime": {
     "end_time": "2021-11-11T10:55:40.343669Z",
     "start_time": "2021-11-11T10:55:20.320226Z"
    },
    "slideshow": {
     "slide_type": "fragment"
    }
   },
   "outputs": [],
   "source": [
    "import time\n",
    "for i in range(1000):\n",
    "    print('.', end='')\n",
    "    time.sleep(2) # wait 2 seconds"
   ]
  },
  {
   "cell_type": "markdown",
   "metadata": {
    "slideshow": {
     "slide_type": "fragment"
    }
   },
   "source": [
    "Also note that the circle on the top-right, next to the kernel's name (Python 3) changes color when the kernel is busy, and that the cell is marked with an asterisk [*] on the left."
   ]
  },
  {
   "cell_type": "markdown",
   "metadata": {
    "slideshow": {
     "slide_type": "subslide"
    }
   },
   "source": [
    "Note that after you created a new notebook, you will start with a document featuring a single empty cell (more on cells later). This document is ___\\\"Untitled\\\"___. You can change the notebook's name either from the first screen, or by clicking on the title on top of the page:"
   ]
  },
  {
   "cell_type": "markdown",
   "metadata": {
    "slideshow": {
     "slide_type": "fragment"
    }
   },
   "source": [
    "<img src='misc/img/rename.png' width='700'>"
   ]
  },
  {
   "cell_type": "markdown",
   "metadata": {
    "slideshow": {
     "slide_type": "subslide"
    }
   },
   "source": [
    "### Cell types"
   ]
  },
  {
   "cell_type": "markdown",
   "metadata": {
    "slideshow": {
     "slide_type": "subslide"
    }
   },
   "source": [
    "Notebooks are built by ___cells___ which are the units of code that will be executed independently, although it is possible to run them all one after the other."
   ]
  },
  {
   "cell_type": "markdown",
   "metadata": {
    "slideshow": {
     "slide_type": "fragment"
    }
   },
   "source": [
    "___Cells___ can be of three types:\n",
    "* Code\n",
    "* Markdown\n",
    "* Raw text"
   ]
  },
  {
   "cell_type": "markdown",
   "metadata": {
    "slideshow": {
     "slide_type": "subslide"
    }
   },
   "source": [
    "Basically, the three types of cells are used for:\n",
    "* Code → Writing pieces of program, that will be executed in python3\n",
    "* Markdown → Rich format, explanations, text, titles, images, equations\n",
    "* Raw text → Text without any format, in a raw form, that won't be interpreted as format or code"
   ]
  },
  {
   "cell_type": "markdown",
   "metadata": {
    "slideshow": {
     "slide_type": "subslide"
    }
   },
   "source": [
    "The type can be changed using the cell menu:"
   ]
  },
  {
   "cell_type": "markdown",
   "metadata": {
    "slideshow": {
     "slide_type": "fragment"
    }
   },
   "source": [
    "<img src='misc/img/cells1.png' width='700'>"
   ]
  },
  {
   "cell_type": "markdown",
   "metadata": {
    "slideshow": {
     "slide_type": "subslide"
    }
   },
   "source": [
    "or with the toolbar:"
   ]
  },
  {
   "cell_type": "markdown",
   "metadata": {
    "slideshow": {
     "slide_type": "fragment"
    }
   },
   "source": [
    "<img src='misc/img/cells2.png' width='700'>"
   ]
  },
  {
   "cell_type": "markdown",
   "metadata": {
    "slideshow": {
     "slide_type": "subslide"
    }
   },
   "source": [
    "or using keyboard shortcuts in ___command mode___:\n",
    "* <kbd>y</kbd> → Make this cell ___code___\n",
    "* <kbd>m</kbd> → Make this cell ___markdown format___\n",
    "* <kbd>r</kbd> → Make this cell ___raw input___"
   ]
  },
  {
   "cell_type": "markdown",
   "metadata": {
    "slideshow": {
     "slide_type": "fragment"
    }
   },
   "source": [
    "Note 1: ___Headers___ are ___markdown___ too, we will come to that later."
   ]
  },
  {
   "cell_type": "markdown",
   "metadata": {
    "slideshow": {
     "slide_type": "fragment"
    }
   },
   "source": [
    "And that is a very good point to jump to the ___edit___ and ___command___ modes!"
   ]
  },
  {
   "cell_type": "markdown",
   "metadata": {
    "slideshow": {
     "slide_type": "subslide"
    }
   },
   "source": [
    "### Edit and Command modes"
   ]
  },
  {
   "cell_type": "markdown",
   "metadata": {
    "slideshow": {
     "slide_type": "subslide"
    }
   },
   "source": [
    "When writing inside a cell's body, we say that we are in ___edit___ mode, as we will change the contents of the cell. \n",
    "\n",
    "By contrast, when in ___command___ mode, we can use the keyboard to change some aspects of the cells, to run the code in a cell, move them, delete them, insert new ones, etc."
   ]
  },
  {
   "cell_type": "markdown",
   "metadata": {
    "slideshow": {
     "slide_type": "fragment"
    }
   },
   "source": [
    "This is similar to the use of combinations of cells in other software, like the widely used shortcuts <kbd>CTRL</kbd>+<kbd>c</kbd> and <kbd>CTRL</kbd>+<kbd>v</kbd>: They are not supposed to write the letters ___c___ or ___v___ but to execute a command."
   ]
  },
  {
   "cell_type": "markdown",
   "metadata": {
    "slideshow": {
     "slide_type": "subslide"
    }
   },
   "source": [
    "A short explanation of the ___edit___ and ___command___ modes is shown with the menu `Help` → `Keyboard shortcuts`"
   ]
  },
  {
   "cell_type": "markdown",
   "metadata": {
    "slideshow": {
     "slide_type": "fragment"
    }
   },
   "source": [
    "<img src='misc/img/keyboard_shortcuts.png' width='600'>"
   ]
  },
  {
   "cell_type": "markdown",
   "metadata": {
    "slideshow": {
     "slide_type": "subslide"
    }
   },
   "source": [
    "It is possible to switch to ___command___ mode by clicking the <kbd>ESC</kbd> from a cell, or with a mouse click outside it."
   ]
  },
  {
   "cell_type": "markdown",
   "metadata": {
    "slideshow": {
     "slide_type": "fragment"
    }
   },
   "source": [
    "Conversely, we can go into ___edit___ mode if we hit <kbd>ENTER</kbd> or with a mouse click inside the cell's body."
   ]
  },
  {
   "cell_type": "markdown",
   "metadata": {
    "slideshow": {
     "slide_type": "subslide"
    }
   },
   "source": [
    "Three commonly used commands, used to run the code inside a cell without need of the toolbar are:\n",
    "* <kbd>CTRL</kbd>+<kbd>ENTER</kbd> → to run the code in the current cell\n",
    "* <kbd>Shift</kbd>+<kbd>ENTER</kbd> → to run the code in the current cell and select next cell below\n",
    "* <kbd>ALT</kbd>+<kbd>ENTER</kbd> → to run the code in the current cell and insert an empty new under it"
   ]
  },
  {
   "cell_type": "markdown",
   "metadata": {
    "slideshow": {
     "slide_type": "subslide"
    }
   },
   "source": [
    "Of course we can also run the code in a cell using the toolbar:"
   ]
  },
  {
   "cell_type": "markdown",
   "metadata": {
    "slideshow": {
     "slide_type": "fragment"
    }
   },
   "source": [
    "<img src='misc/img/run_buttons.png' width='300'>"
   ]
  },
  {
   "cell_type": "markdown",
   "metadata": {
    "slideshow": {
     "slide_type": "fragment"
    }
   },
   "source": [
    "Which takes us to the \"coding\" part..."
   ]
  },
  {
   "cell_type": "markdown",
   "metadata": {
    "slideshow": {
     "slide_type": "slide"
    }
   },
   "source": [
    "## Coding with jupyter notebooks"
   ]
  },
  {
   "cell_type": "markdown",
   "metadata": {
    "slideshow": {
     "slide_type": "subslide"
    }
   },
   "source": [
    "Each cell in a jupyter notebook can run python code, provided that the python kernel is installed and running correctly, and that the cell is configured as `code`.\n",
    "\n",
    "By default, all cells are first configured as `code`."
   ]
  },
  {
   "cell_type": "markdown",
   "metadata": {
    "slideshow": {
     "slide_type": "subslide"
    }
   },
   "source": [
    "A cell can be run either using a combination of keys, or using the buttons in the toolbar:"
   ]
  },
  {
   "cell_type": "markdown",
   "metadata": {
    "slideshow": {
     "slide_type": "fragment"
    }
   },
   "source": [
    "* <kbd>CTRL</kbd>+<kbd>ENTER</kbd> → to run the code in the current cell\n",
    "* <kbd>Shift</kbd>+<kbd>ENTER</kbd> → to run the code in the current cell and select next cell below\n",
    "* <kbd>ALT</kbd>+<kbd>ENTER</kbd> → to run the code in the current cell and insert an empty new under it"
   ]
  },
  {
   "cell_type": "markdown",
   "metadata": {
    "slideshow": {
     "slide_type": "fragment"
    }
   },
   "source": [
    "<img src='misc/img/run_buttons.png' width='300'>"
   ]
  },
  {
   "cell_type": "markdown",
   "metadata": {
    "slideshow": {
     "slide_type": "subslide"
    }
   },
   "source": [
    "One interesting feature is that we can run a cell _after_, and then one _before_, and the values of variables or imported libraries is preserved."
   ]
  },
  {
   "cell_type": "code",
   "execution_count": 3,
   "metadata": {
    "ExecuteTime": {
     "end_time": "2021-11-11T11:07:02.268470Z",
     "start_time": "2021-11-11T11:07:02.263522Z"
    },
    "slideshow": {
     "slide_type": "fragment"
    }
   },
   "outputs": [
    {
     "name": "stdout",
     "output_type": "stream",
     "text": [
      "2\n"
     ]
    }
   ],
   "source": [
    "print( a )"
   ]
  },
  {
   "cell_type": "code",
   "execution_count": 2,
   "metadata": {
    "ExecuteTime": {
     "end_time": "2021-11-11T11:06:59.290307Z",
     "start_time": "2021-11-11T11:06:59.287090Z"
    },
    "slideshow": {
     "slide_type": "fragment"
    }
   },
   "outputs": [],
   "source": [
    "a = 2"
   ]
  },
  {
   "cell_type": "markdown",
   "metadata": {
    "slideshow": {
     "slide_type": "subslide"
    }
   },
   "source": [
    "While running cells without order can be useful sometimes, it leads to untidy and messy code.\n",
    "\n",
    "It is a good practice to structure the code to be run from beginning to end.\n",
    "\n",
    "To run the complete notebook, we can use the menus:\n",
    "* `Cell` → `Run All`\n",
    "* `Kernel` → `Restart & Run All`"
   ]
  },
  {
   "cell_type": "markdown",
   "metadata": {
    "slideshow": {
     "slide_type": "subslide"
    }
   },
   "source": [
    "Another feature of jupyter notebooks, regarding interactive coding, is that they often give some format to many outputs. \n",
    "\n",
    "As an example, we don't always need to use `print` to check the value of a variable:"
   ]
  },
  {
   "cell_type": "code",
   "execution_count": 4,
   "metadata": {
    "ExecuteTime": {
     "end_time": "2021-11-11T11:07:44.784728Z",
     "start_time": "2021-11-11T11:07:44.776692Z"
    },
    "scrolled": true,
    "slideshow": {
     "slide_type": "fragment"
    }
   },
   "outputs": [
    {
     "data": {
      "text/plain": [
       "8"
      ]
     },
     "execution_count": 4,
     "metadata": {},
     "output_type": "execute_result"
    }
   ],
   "source": [
    "a = 3\n",
    "b = 5\n",
    "c = a + b\n",
    "c"
   ]
  },
  {
   "cell_type": "code",
   "execution_count": 5,
   "metadata": {
    "ExecuteTime": {
     "end_time": "2021-11-11T11:07:47.066623Z",
     "start_time": "2021-11-11T11:07:47.064048Z"
    },
    "slideshow": {
     "slide_type": "fragment"
    }
   },
   "outputs": [
    {
     "name": "stdout",
     "output_type": "stream",
     "text": [
      "8\n"
     ]
    }
   ],
   "source": [
    "a = 3\n",
    "b = 5\n",
    "c = a + b\n",
    "print( c )"
   ]
  },
  {
   "cell_type": "markdown",
   "metadata": {
    "slideshow": {
     "slide_type": "subslide"
    }
   },
   "source": [
    "However, this only works for the last line:"
   ]
  },
  {
   "cell_type": "code",
   "execution_count": 6,
   "metadata": {
    "ExecuteTime": {
     "end_time": "2021-11-11T11:08:20.075153Z",
     "start_time": "2021-11-11T11:08:20.072817Z"
    },
    "slideshow": {
     "slide_type": "fragment"
    }
   },
   "outputs": [],
   "source": [
    "a = 3\n",
    "a\n",
    "b = 5\n",
    "b\n",
    "c = a + b"
   ]
  },
  {
   "cell_type": "markdown",
   "metadata": {
    "slideshow": {
     "slide_type": "subslide"
    }
   },
   "source": [
    "If we wish to see all output, it is better to actually use `print()`:"
   ]
  },
  {
   "cell_type": "code",
   "execution_count": 7,
   "metadata": {
    "ExecuteTime": {
     "end_time": "2021-11-11T11:08:35.083214Z",
     "start_time": "2021-11-11T11:08:35.080136Z"
    },
    "slideshow": {
     "slide_type": "fragment"
    }
   },
   "outputs": [
    {
     "name": "stdout",
     "output_type": "stream",
     "text": [
      "3\n",
      "5\n",
      "8\n"
     ]
    }
   ],
   "source": [
    "a = 3\n",
    "print( a )\n",
    "b = 5\n",
    "print( b )\n",
    "c = a + b\n",
    "print( c )"
   ]
  },
  {
   "cell_type": "markdown",
   "metadata": {
    "slideshow": {
     "slide_type": "subslide"
    }
   },
   "source": [
    "Lastly, the ___input label___ `In[ ]:`  on the left of the cells indicates that they are ___code___ cells, and also if they were run and how:\n",
    "* `In[1]:` 1st cell to execute code\n",
    "* `In[10]:` 10th cell to execute code\n",
    "* `In[ ]:` Cell with code not yet executed\n",
    "* `In[*]:` Cell executing code right now"
   ]
  },
  {
   "cell_type": "markdown",
   "metadata": {
    "slideshow": {
     "slide_type": "fragment"
    }
   },
   "source": [
    "Similarly, the ___output labels___ `Out[ ]:` indicate to which cell that particular output corresponds, rather than the order of execution."
   ]
  },
  {
   "cell_type": "code",
   "execution_count": null,
   "metadata": {
    "ExecuteTime": {
     "end_time": "2021-11-10T19:09:48.782709Z",
     "start_time": "2021-11-10T19:09:48.773111Z"
    },
    "slideshow": {
     "slide_type": "fragment"
    }
   },
   "outputs": [],
   "source": [
    "a * 2"
   ]
  },
  {
   "cell_type": "markdown",
   "metadata": {
    "slideshow": {
     "slide_type": "subslide"
    }
   },
   "source": [
    "If you have made several changes to your notebook and want to check everything again, remember to use the entries in the `Kernel` menu:\n",
    "\n",
    "* `Kernel` → `Restart`\n",
    "* `Kernel` → `Restart & Clear Output`\n",
    "* `Kernel` → `Restart & Run All`"
   ]
  },
  {
   "cell_type": "markdown",
   "metadata": {
    "slideshow": {
     "slide_type": "subslide"
    }
   },
   "source": [
    "## Format with ___markdown___ and _HTML_"
   ]
  },
  {
   "cell_type": "markdown",
   "metadata": {
    "slideshow": {
     "slide_type": "fragment"
    }
   },
   "source": [
    "The main way to provide rich format for jupyter notebooks is called ___markdown___.\n",
    "\n",
    "___HTML___ is also supported. It provides more sophisticated output, but is a little more complicated."
   ]
  },
  {
   "cell_type": "markdown",
   "metadata": {
    "slideshow": {
     "slide_type": "fragment"
    }
   },
   "source": [
    "In both cases the cells need to be set to `markdown` and bust be run, like `code` cells are."
   ]
  },
  {
   "cell_type": "markdown",
   "metadata": {
    "slideshow": {
     "slide_type": "subslide"
    }
   },
   "source": [
    "###  ___Markdown___"
   ]
  },
  {
   "cell_type": "markdown",
   "metadata": {
    "slideshow": {
     "slide_type": "subslide"
    }
   },
   "source": [
    "Markdown is a light formatting language, to provide rich format using plain text editors (like the jupyter notebooks)"
   ]
  },
  {
   "cell_type": "markdown",
   "metadata": {
    "slideshow": {
     "slide_type": "fragment"
    }
   },
   "source": [
    "It supports a number of formatting, we will some of the most common here. For more references, check the links at the end of this notebook, or search for `markdown` + `jupyter notebook` in your web browser."
   ]
  },
  {
   "cell_type": "markdown",
   "metadata": {
    "slideshow": {
     "slide_type": "subslide"
    }
   },
   "source": [
    "#### Titles and subtitles"
   ]
  },
  {
   "cell_type": "markdown",
   "metadata": {
    "slideshow": {
     "slide_type": "subslide"
    }
   },
   "source": [
    "Titles are created by a number of leading number signs, hashtags `xxx`. The number of signs denotes the level of the title or subtitle:"
   ]
  },
  {
   "cell_type": "raw",
   "metadata": {
    "ExecuteTime": {
     "end_time": "2021-11-10T19:09:53.810054Z",
     "start_time": "2021-11-10T19:09:53.807907Z"
    },
    "slideshow": {
     "slide_type": "fragment"
    }
   },
   "source": [
    "# Title "
   ]
  },
  {
   "cell_type": "markdown",
   "metadata": {
    "slideshow": {
     "slide_type": "fragment"
    }
   },
   "source": [
    "# Title"
   ]
  },
  {
   "cell_type": "raw",
   "metadata": {
    "ExecuteTime": {
     "end_time": "2021-11-10T19:09:56.012859Z",
     "start_time": "2021-11-10T19:09:56.010982Z"
    },
    "slideshow": {
     "slide_type": "subslide"
    }
   },
   "source": [
    "## Subtitle 2"
   ]
  },
  {
   "cell_type": "markdown",
   "metadata": {
    "slideshow": {
     "slide_type": "fragment"
    }
   },
   "source": [
    "## Subtitle 2"
   ]
  },
  {
   "cell_type": "raw",
   "metadata": {
    "ExecuteTime": {
     "end_time": "2021-11-10T19:09:56.369891Z",
     "start_time": "2021-11-10T19:09:56.367855Z"
    },
    "slideshow": {
     "slide_type": "fragment"
    }
   },
   "source": [
    "###### Subtitle 6"
   ]
  },
  {
   "cell_type": "markdown",
   "metadata": {
    "slideshow": {
     "slide_type": "fragment"
    }
   },
   "source": [
    "###### Subtitle 6"
   ]
  },
  {
   "cell_type": "markdown",
   "metadata": {
    "slideshow": {
     "slide_type": "subslide"
    }
   },
   "source": [
    "#### Italics and bold"
   ]
  },
  {
   "cell_type": "markdown",
   "metadata": {
    "slideshow": {
     "slide_type": "subslide"
    }
   },
   "source": [
    "*Italics* and **Bold** fonts are produced by either using 1 or 2 asterisks, respectively:\n",
    "* `*`Italics`*`\n",
    "* `**`Bold`**`\n",
    "\n",
    "Or 1 or 2 underlines:\n",
    "* `_`Italics`_`\n",
    "* `__`Bold`__`\n",
    "\n",
    "before and after the text to be formatted."
   ]
  },
  {
   "cell_type": "markdown",
   "metadata": {
    "slideshow": {
     "slide_type": "subslide"
    }
   },
   "source": [
    "#### Item lists"
   ]
  },
  {
   "cell_type": "markdown",
   "metadata": {
    "slideshow": {
     "slide_type": "subslide"
    }
   },
   "source": [
    "Lists are produced with a leading character, which can be an asterisk `*`, a plus sign `+`, or a minus sign`-`:"
   ]
  },
  {
   "cell_type": "raw",
   "metadata": {
    "slideshow": {
     "slide_type": "fragment"
    }
   },
   "source": [
    "* North\n",
    "- South\n",
    "+ East\n",
    "* West"
   ]
  },
  {
   "cell_type": "markdown",
   "metadata": {
    "slideshow": {
     "slide_type": "fragment"
    }
   },
   "source": [
    "+ North\n",
    "+ South\n",
    "+ East\n",
    "+ West"
   ]
  },
  {
   "cell_type": "markdown",
   "metadata": {
    "slideshow": {
     "slide_type": "subslide"
    }
   },
   "source": [
    "#### Quotes"
   ]
  },
  {
   "cell_type": "markdown",
   "metadata": {
    "slideshow": {
     "slide_type": "subslide"
    }
   },
   "source": [
    "Quotes of text can be introduced with the `>` character:"
   ]
  },
  {
   "cell_type": "raw",
   "metadata": {
    "slideshow": {
     "slide_type": "fragment"
    }
   },
   "source": [
    "The author starts with a clear statement:\n",
    "    \n",
    "> Quantification of global forest change has been lacking despite the recognized importance of\n",
    "forest ecosystem services.\n",
    "    \n",
    "(Hansen et al. 2013)"
   ]
  },
  {
   "cell_type": "markdown",
   "metadata": {
    "slideshow": {
     "slide_type": "fragment"
    }
   },
   "source": [
    "The author starts with a clear statement:\n",
    "    \n",
    "> Quantification of global forest change has been lacking despite the recognized importance of\n",
    "forest ecosystem services.\n",
    "    \n",
    "(Hansen et al. 2013)"
   ]
  },
  {
   "cell_type": "markdown",
   "metadata": {
    "slideshow": {
     "slide_type": "subslide"
    }
   },
   "source": [
    "#### Horizontal rules"
   ]
  },
  {
   "cell_type": "markdown",
   "metadata": {
    "slideshow": {
     "slide_type": "subslide"
    }
   },
   "source": [
    "A horizontal line (rule) can be inserted by using either 3 asterisks, minus signs or underlines:"
   ]
  },
  {
   "cell_type": "markdown",
   "metadata": {
    "slideshow": {
     "slide_type": "fragment"
    }
   },
   "source": [
    "***"
   ]
  },
  {
   "cell_type": "markdown",
   "metadata": {
    "slideshow": {
     "slide_type": "fragment"
    }
   },
   "source": [
    "---"
   ]
  },
  {
   "cell_type": "markdown",
   "metadata": {
    "slideshow": {
     "slide_type": "fragment"
    }
   },
   "source": [
    "___"
   ]
  },
  {
   "cell_type": "markdown",
   "metadata": {
    "slideshow": {
     "slide_type": "fragment"
    }
   },
   "source": [
    "---"
   ]
  },
  {
   "cell_type": "markdown",
   "metadata": {
    "slideshow": {
     "slide_type": "subslide"
    }
   },
   "source": [
    "#### Hyperlinks"
   ]
  },
  {
   "cell_type": "markdown",
   "metadata": {
    "slideshow": {
     "slide_type": "subslide"
    }
   },
   "source": [
    "Hyperlinks can be used if inserted directly: https://en.wikipedia.org/wiki/Python_(programming_language)"
   ]
  },
  {
   "cell_type": "markdown",
   "metadata": {
    "slideshow": {
     "slide_type": "fragment"
    }
   },
   "source": [
    "Or they can be inserted in a [text](https://en.wikipedia.org/wiki/Python_(programming_language))"
   ]
  },
  {
   "cell_type": "markdown",
   "metadata": {
    "slideshow": {
     "slide_type": "fragment"
    }
   },
   "source": [
    "For this, we use a combination of parenthesis `()` and square brackets `[]`:"
   ]
  },
  {
   "cell_type": "raw",
   "metadata": {
    "slideshow": {
     "slide_type": "fragment"
    }
   },
   "source": [
    "Or they can be inserted in a [text](https://en.wikipedia.org/wiki/Python_(programming_language))"
   ]
  },
  {
   "cell_type": "markdown",
   "metadata": {
    "slideshow": {
     "slide_type": "subslide"
    }
   },
   "source": [
    "#### Equations"
   ]
  },
  {
   "cell_type": "markdown",
   "metadata": {
    "slideshow": {
     "slide_type": "subslide"
    }
   },
   "source": [
    "Equations with LaTeX"
   ]
  },
  {
   "cell_type": "markdown",
   "metadata": {
    "slideshow": {
     "slide_type": "skip"
    }
   },
   "source": [
    "LaTeX is a formatting syntax. For simple equations, we can use some online editor, copy-and-paste the code in a markdown cell between `$` signs:"
   ]
  },
  {
   "cell_type": "raw",
   "metadata": {
    "slideshow": {
     "slide_type": "fragment"
    }
   },
   "source": [
    "$a=3x+1$"
   ]
  },
  {
   "cell_type": "markdown",
   "metadata": {
    "slideshow": {
     "slide_type": "fragment"
    }
   },
   "source": [
    "$a=3x+1$"
   ]
  },
  {
   "cell_type": "markdown",
   "metadata": {
    "slideshow": {
     "slide_type": "subslide"
    }
   },
   "source": [
    "A more complicated example:"
   ]
  },
  {
   "cell_type": "raw",
   "metadata": {
    "slideshow": {
     "slide_type": "fragment"
    }
   },
   "source": [
    "$$ \\huge h_{ts}  =  \\frac{ h_m }{ 1 + b_0 \\cdot e^{-b_1 \\cdot T_{\\Sigma_{ts}}}} $$"
   ]
  },
  {
   "cell_type": "markdown",
   "metadata": {
    "slideshow": {
     "slide_type": "fragment"
    }
   },
   "source": [
    "$$ \\huge h_{ts}  =  \\frac{ h_m }{ 1 + b_0 \\cdot e^{-b_1 \\cdot T_{\\Sigma_{ts}}}} $$"
   ]
  },
  {
   "cell_type": "markdown",
   "metadata": {
    "slideshow": {
     "slide_type": "subslide"
    }
   },
   "source": [
    "Explaining the LaTeX syntax falls outside the scope of this course, but be aware that this is an open possibility and check for websites in internet where you can make good looking equations to make your notebooks more professional.\n",
    "\n",
    "If you search foor \"latex equations online\", you should be able to generate the code that you later can copy-and-paste in your notebook. "
   ]
  },
  {
   "cell_type": "markdown",
   "metadata": {
    "slideshow": {
     "slide_type": "subslide"
    }
   },
   "source": [
    "#### Images"
   ]
  },
  {
   "cell_type": "markdown",
   "metadata": {
    "slideshow": {
     "slide_type": "subslide"
    }
   },
   "source": [
    "There are three ways to insert images in a notebook"
   ]
  },
  {
   "cell_type": "markdown",
   "metadata": {
    "slideshow": {
     "slide_type": "fragment"
    }
   },
   "source": [
    "1. Images with markdown are inserted with:"
   ]
  },
  {
   "cell_type": "raw",
   "metadata": {
    "slideshow": {
     "slide_type": "fragment"
    }
   },
   "source": [
    "![Python logo](misc/img/python-logo.png 'This is the logo!!')"
   ]
  },
  {
   "cell_type": "markdown",
   "metadata": {
    "slideshow": {
     "slide_type": "fragment"
    }
   },
   "source": [
    "![Python logo](misc/img/python-logo.png 'This is the logo!!')"
   ]
  },
  {
   "cell_type": "markdown",
   "metadata": {
    "slideshow": {
     "slide_type": "subslide"
    }
   },
   "source": [
    "2. Images using python code:"
   ]
  },
  {
   "cell_type": "code",
   "execution_count": 9,
   "metadata": {
    "ExecuteTime": {
     "end_time": "2021-11-11T11:18:45.024783Z",
     "start_time": "2021-11-11T11:18:45.020983Z"
    },
    "slideshow": {
     "slide_type": "fragment"
    }
   },
   "outputs": [
    {
     "data": {
      "image/png": "[encoded data removed]",
      "text/plain": [
       "<IPython.core.display.Image object>"
      ]
     },
     "execution_count": 9,
     "metadata": {},
     "output_type": "execute_result"
    }
   ],
   "source": [
    "from IPython.display import Image\n",
    "Image(filename='misc/img/python-logo.png')"
   ]
  },
  {
   "cell_type": "markdown",
   "metadata": {
    "slideshow": {
     "slide_type": "subslide"
    }
   },
   "source": [
    "The latter is a bit more complicated (and is not markdown, for the sake of precision), but it allows to several parameters:"
   ]
  },
  {
   "cell_type": "code",
   "execution_count": 10,
   "metadata": {
    "ExecuteTime": {
     "end_time": "2021-11-11T11:18:49.161244Z",
     "start_time": "2021-11-11T11:18:49.156816Z"
    },
    "slideshow": {
     "slide_type": "fragment"
    }
   },
   "outputs": [
    {
     "data": {
      "image/png": "[encoded data removed]",
      "text/plain": [
       "<IPython.core.display.Image object>"
      ]
     },
     "execution_count": 10,
     "metadata": {
      "image/png": {
       "width": 100
      }
     },
     "output_type": "execute_result"
    }
   ],
   "source": [
    "logo = Image(filename='misc/img/python-logo.png')\n",
    "logo.width = 100\n",
    "logo"
   ]
  },
  {
   "cell_type": "markdown",
   "metadata": {
    "slideshow": {
     "slide_type": "subslide"
    }
   },
   "source": [
    "3. Images using HTML and will be covered in the next section"
   ]
  },
  {
   "cell_type": "markdown",
   "metadata": {
    "slideshow": {
     "slide_type": "subslide"
    }
   },
   "source": [
    "4. It is also possible to insert images via the menu `View`→`Insert image`. It will generate the corresponding code inside a markdown cell."
   ]
  },
  {
   "cell_type": "markdown",
   "metadata": {
    "slideshow": {
     "slide_type": "subslide"
    }
   },
   "source": [
    "### HTML"
   ]
  },
  {
   "cell_type": "markdown",
   "metadata": {
    "slideshow": {
     "slide_type": "subslide"
    }
   },
   "source": [
    "Apart from ___markdown___ formatting, it is possible to use ___HTML___ code. \n",
    "\n",
    "___HTML___ stands for hypertext markup language, and it is the standard language for creating web pages.\n",
    "\n",
    "For jupyter notebooks, it means that you can create very sophisticated tables, images, embed videos and animations, among lots of other features. \n",
    "\n",
    "In the next cells we see only three examples of simple tasks done with HTML: inserting an image, inserting the symbol for a key (from the keyboard), and centering."
   ]
  },
  {
   "cell_type": "markdown",
   "metadata": {
    "slideshow": {
     "slide_type": "subslide"
    }
   },
   "source": [
    "#### Images with HTML"
   ]
  },
  {
   "cell_type": "markdown",
   "metadata": {
    "slideshow": {
     "slide_type": "subslide"
    }
   },
   "source": [
    "HTML code is often easy to recognize from the use of the signs **\\<** and **\\>**.\n",
    "\n",
    "To insert an image from the hard disk, we can use the following line:"
   ]
  },
  {
   "cell_type": "raw",
   "metadata": {
    "slideshow": {
     "slide_type": "fragment"
    }
   },
   "source": [
    "<img src='misc/img/helloworld.png'>"
   ]
  },
  {
   "cell_type": "markdown",
   "metadata": {
    "slideshow": {
     "slide_type": "fragment"
    }
   },
   "source": [
    "<img src='misc/img/python-logo.png' width='200'>"
   ]
  },
  {
   "cell_type": "markdown",
   "metadata": {
    "slideshow": {
     "slide_type": "subslide"
    }
   },
   "source": [
    "But HTML is much more flexible. We can for example define the image size, title and alternative text:"
   ]
  },
  {
   "cell_type": "raw",
   "metadata": {
    "slideshow": {
     "slide_type": "fragment"
    }
   },
   "source": [
    "<img src='https://upload.wikimedia.org/wikipedia/commons/1/13/Tibetan_Wolf_Canis_lupus_chanko_cropped.jpg' alt='Image not found :(' width=\"200\" title='A wolf from Wikipedia'>"
   ]
  },
  {
   "cell_type": "markdown",
   "metadata": {
    "slideshow": {
     "slide_type": "fragment"
    }
   },
   "source": [
    "<img src='https://upload.wikimedia.org/wikipedia/commons/1/13/Tibetan_Wolf_Canis_lupus_chanko_cropped.jpg' alt='Image not found :(' width=\"200\" title='A wolf from Wikipedia'>"
   ]
  },
  {
   "cell_type": "markdown",
   "metadata": {
    "slideshow": {
     "slide_type": "subslide"
    }
   },
   "source": [
    "#### Centering text"
   ]
  },
  {
   "cell_type": "code",
   "execution_count": null,
   "metadata": {
    "ExecuteTime": {
     "end_time": "2021-11-10T19:08:17.804384Z",
     "start_time": "2021-11-10T19:08:17.802584Z"
    },
    "slideshow": {
     "slide_type": "fragment"
    }
   },
   "outputs": [],
   "source": [
    "# Super-title"
   ]
  },
  {
   "cell_type": "markdown",
   "metadata": {
    "slideshow": {
     "slide_type": "fragment"
    }
   },
   "source": [
    "# Super-title"
   ]
  },
  {
   "cell_type": "code",
   "execution_count": null,
   "metadata": {
    "ExecuteTime": {
     "end_time": "2021-11-10T19:08:17.810548Z",
     "start_time": "2021-11-10T19:08:17.806049Z"
    },
    "slideshow": {
     "slide_type": "fragment"
    }
   },
   "outputs": [],
   "source": [
    "# <center>Super-title</center>"
   ]
  },
  {
   "cell_type": "markdown",
   "metadata": {
    "slideshow": {
     "slide_type": "fragment"
    }
   },
   "source": [
    "<h1> <center> Super-title </center> </h1>"
   ]
  },
  {
   "cell_type": "markdown",
   "metadata": {
    "slideshow": {
     "slide_type": "subslide"
    }
   },
   "source": [
    "HTML uses often a pair of open-and-close statements, in this case both __center__ inside the angle brackets. Notice that the second __center__ statemets has a diagonal to point that it is the end of the centered block."
   ]
  },
  {
   "cell_type": "markdown",
   "metadata": {
    "slideshow": {
     "slide_type": "subslide"
    }
   },
   "source": [
    "Similar to the centering blocks, we can format keys if we put them between __kbd__ (from keyboard) statements:"
   ]
  },
  {
   "cell_type": "raw",
   "metadata": {
    "slideshow": {
     "slide_type": "fragment"
    }
   },
   "source": [
    "<kbd> ENTER </kbd> + <kbd> ALT </kbd> + <kbd> A </kbd>"
   ]
  },
  {
   "cell_type": "markdown",
   "metadata": {
    "slideshow": {
     "slide_type": "fragment"
    }
   },
   "source": [
    "<kbd> ENTER </kbd> + <kbd> ALT </kbd> + <kbd> A </kbd>"
   ]
  },
  {
   "cell_type": "markdown",
   "metadata": {
    "slideshow": {
     "slide_type": "subslide"
    }
   },
   "source": [
    "There are lots of other interesting HTML pieces of code, feel free to search for them to make your notebooks look better!"
   ]
  },
  {
   "cell_type": "markdown",
   "metadata": {
    "slideshow": {
     "slide_type": "slide"
    }
   },
   "source": [
    "## Notebook sharing as PDF or HTML files."
   ]
  },
  {
   "cell_type": "markdown",
   "metadata": {
    "slideshow": {
     "slide_type": "subslide"
    }
   },
   "source": [
    "Once you organized your notebook with comments, titles, equations, graphs, pictures and calculations, you may want to share it with friends or colleagues.\n",
    "\n",
    "We will briefly see three ways to share your notebooks:\n",
    "* as a PDF file\n",
    "* as an HTML website\n",
    "* upload it to the internet and share the link"
   ]
  },
  {
   "cell_type": "markdown",
   "metadata": {
    "slideshow": {
     "slide_type": "subslide"
    }
   },
   "source": [
    "### Export as PDF"
   ]
  },
  {
   "cell_type": "markdown",
   "metadata": {
    "slideshow": {
     "slide_type": "fragment"
    }
   },
   "source": [
    "You can very easily convert your notebook to a PDF file under the menu entry `File`→`Download as`→`PDF via LaTeX`."
   ]
  },
  {
   "cell_type": "markdown",
   "metadata": {
    "slideshow": {
     "slide_type": "fragment"
    }
   },
   "source": [
    "There is not much to say about it, other than noting that behind the scenes, the LaTeX syntax is used to produce the document. You don't need to worry about it though."
   ]
  },
  {
   "cell_type": "markdown",
   "metadata": {
    "slideshow": {
     "slide_type": "subslide"
    }
   },
   "source": [
    "### Export as HTML"
   ]
  },
  {
   "cell_type": "markdown",
   "metadata": {
    "slideshow": {
     "slide_type": "fragment"
    }
   },
   "source": [
    "Similarly, the notebook can be saved as an HTML file under the menu entry `File`→`Download as`→`HTML`."
   ]
  },
  {
   "cell_type": "markdown",
   "metadata": {
    "slideshow": {
     "slide_type": "subslide"
    }
   },
   "source": [
    "A note: If you install the RISE extension from https://github.com/damianavila/RISE, you can generate slideshows, and later download the notebook in HMTL format as a presentation to share as well: `File`→`Download as`→`Reveal.js slides`."
   ]
  },
  {
   "cell_type": "markdown",
   "metadata": {
    "slideshow": {
     "slide_type": "subslide"
    }
   },
   "source": [
    "To install the Rise extension for making presentation (or any other package), you need to start a console in anaconda and run some commands. You start a console by clicking on `Environments`→`base (root)`→`Open Terminal`."
   ]
  },
  {
   "cell_type": "markdown",
   "metadata": {
    "slideshow": {
     "slide_type": "fragment"
    }
   },
   "source": [
    "<img src='misc/img/anaconda_rise1.png' width='700'>"
   ]
  },
  {
   "cell_type": "markdown",
   "metadata": {
    "slideshow": {
     "slide_type": "subslide"
    }
   },
   "source": [
    "You can then enter the following command and wait for the installation to complete: `conda install -c conda-forge rise`"
   ]
  },
  {
   "cell_type": "markdown",
   "metadata": {
    "slideshow": {
     "slide_type": "fragment"
    }
   },
   "source": [
    "<img src='misc/img/anaconda_rise2.png' width='500'>"
   ]
  },
  {
   "cell_type": "markdown",
   "metadata": {
    "slideshow": {
     "slide_type": "subslide"
    }
   },
   "source": [
    "If the installation was successful, you can later define the presentation's slides via `View`→`Cell Toolbar`→`Slideshow` and the drop-down menus that appear at each cell. To start a presentation, press the new button at the rightmost part of the toolbar:"
   ]
  },
  {
   "cell_type": "markdown",
   "metadata": {
    "slideshow": {
     "slide_type": "fragment"
    }
   },
   "source": [
    "<img src='misc/img/slideshow_button.png' width='50'>"
   ]
  },
  {
   "cell_type": "markdown",
   "metadata": {
    "slideshow": {
     "slide_type": "subslide"
    }
   },
   "source": [
    "### Publish online"
   ]
  },
  {
   "cell_type": "markdown",
   "metadata": {
    "slideshow": {
     "slide_type": "fragment"
    }
   },
   "source": [
    "A notebook has already all the code needed to be redered in a browser.\n",
    "\n",
    "Provided that there is an online service to save it, we can upload it and share a link to it."
   ]
  },
  {
   "cell_type": "markdown",
   "metadata": {
    "slideshow": {
     "slide_type": "fragment"
    }
   },
   "source": [
    "As an example, this is the first notebook of the present course, hosted at _github.com_:\n",
    "\n",
    "https://github.com/lskl/prog2_FIT_WS21/blob/main/3_jupyter_notebooks.ipynb"
   ]
  },
  {
   "cell_type": "markdown",
   "metadata": {
    "slideshow": {
     "slide_type": "subslide"
    }
   },
   "source": [
    "Notice that the notebook is itself code. It is a raw-text format: ___JSON___. \n",
    "\n",
    "In order to render it as a notebook, we can use the online service of https://nbviewer.jupyter.org/"
   ]
  },
  {
   "cell_type": "markdown",
   "metadata": {
    "slideshow": {
     "slide_type": "fragment"
    }
   },
   "source": [
    "Here is the same notebook, in an online version:\n",
    "\n",
    "https://nbviewer.org/github/lskl/prog2_FIT_WS21/blob/main/3_jupyter_notebooks.ipynb"
   ]
  },
  {
   "cell_type": "markdown",
   "metadata": {
    "slideshow": {
     "slide_type": "subslide"
    }
   },
   "source": [
    "And it can also be done with dropbox:"
   ]
  },
  {
   "cell_type": "markdown",
   "metadata": {
    "slideshow": {
     "slide_type": "fragment"
    }
   },
   "source": [
    "<img src='misc/img/nbviewer.png' width='700'>"
   ]
  },
  {
   "cell_type": "markdown",
   "metadata": {
    "slideshow": {
     "slide_type": "subslide"
    }
   },
   "source": [
    "Note that some links need a trick: when you get the share link, change the last part from `?dl=0` to `?raw=1`"
   ]
  },
  {
   "cell_type": "markdown",
   "metadata": {
    "slideshow": {
     "slide_type": "slide"
    }
   },
   "source": [
    "## Links"
   ]
  },
  {
   "cell_type": "markdown",
   "metadata": {
    "slideshow": {
     "slide_type": "fragment"
    }
   },
   "source": [
    "\n",
    "[A tutorial on jupyter notebooks](https://www.dataquest.io/blog/jupyter-notebook-tutorial/)\n",
    "\n",
    "[Markdown documentation in jupyter](https://jupyter-notebook.readthedocs.io/en/stable/examples/Notebook/Working%20With%20Markdown%20Cells.html)\n",
    "\n",
    "[Markdown syntax specification](https://daringfireball.net/projects/markdown/)\n",
    "\n",
    "[Markdown formatting syntax](https://www.markdownguide.org/cheat-sheet)\n",
    "\n",
    "[Nbviewer, an online service to share notebooks, also with examples](https://nbviewer.jupyter.org/)\n",
    "\n",
    "[A collection of notebooks in different areas, as inspiration and to get ideas](https://github.com/jupyter/jupyter/wiki/A-gallery-of-interesting-Jupyter-Notebooks)\n",
    "\n",
    "[An article in _Nature_, about the use of the notebooks for data science](https://www.nature.com/articles/d41586-018-07196-1)"
   ]
  },
  {
   "cell_type": "markdown",
   "metadata": {
    "slideshow": {
     "slide_type": "fragment"
    }
   },
   "source": [
    "___"
   ]
  }
 ],
 "metadata": {
  "celltoolbar": "Slideshow",
  "kernelspec": {
   "display_name": "Python 3 (ipykernel)",
   "language": "python",
   "name": "python3"
  },
  "language_info": {
   "codemirror_mode": {
    "name": "ipython",
    "version": 3
   },
   "file_extension": ".py",
   "mimetype": "text/x-python",
   "name": "python",
   "nbconvert_exporter": "python",
   "pygments_lexer": "ipython3",
   "version": "3.8.10"
  },
  "toc": {
   "base_numbering": 1,
   "nav_menu": {},
   "number_sections": true,
   "sideBar": true,
   "skip_h1_title": true,
   "title_cell": "Table of Contents",
   "title_sidebar": "Contents",
   "toc_cell": true,
   "toc_position": {
    "height": "calc(100% - 180px)",
    "left": "10px",
    "top": "150px",
    "width": "383.6px"
   },
   "toc_section_display": true,
   "toc_window_display": false
  },
  "varInspector": {
   "cols": {
    "lenName": 16,
    "lenType": 16,
    "lenVar": 40
   },
   "kernels_config": {
    "python": {
     "delete_cmd_postfix": "",
     "delete_cmd_prefix": "del ",
     "library": "var_list.py",
     "varRefreshCmd": "print(var_dic_list())"
    },
    "r": {
     "delete_cmd_postfix": ") ",
     "delete_cmd_prefix": "rm(",
     "library": "var_list.r",
     "varRefreshCmd": "cat(var_dic_list()) "
    }
   },
   "types_to_exclude": [
    "module",
    "function",
    "builtin_function_or_method",
    "instance",
    "_Feature"
   ],
   "window_display": false
  }
 },
 "nbformat": 4,
 "nbformat_minor": 2
}
