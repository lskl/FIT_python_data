{
 "cells": [
  {
   "cell_type": "markdown",
   "metadata": {
    "slideshow": {
     "slide_type": "slide"
    }
   },
   "source": [
    "# Python for data analysys"
   ]
  },
  {
   "cell_type": "markdown",
   "metadata": {
    "slideshow": {
     "slide_type": "fragment"
    }
   },
   "source": [
    "<img src='../misc/img/python-logo.png' width='200'>"
   ]
  },
  {
   "cell_type": "markdown",
   "metadata": {
    "slideshow": {
     "slide_type": "slide"
    }
   },
   "source": [
    "## Introduction"
   ]
  },
  {
   "cell_type": "markdown",
   "metadata": {
    "slideshow": {
     "slide_type": "slide"
    }
   },
   "source": [
    "### What this course is about"
   ]
  },
  {
   "cell_type": "markdown",
   "metadata": {
    "slideshow": {
     "slide_type": "subslide"
    }
   },
   "source": [
    "* A brief, but intensive introduction to using python for data analysis\n",
    "  * General knowledge of python is necessary!\n",
    "  * The course is available as a repository in:  https://github.com/lskl/FIT_python_data"
   ]
  },
  {
   "cell_type": "markdown",
   "metadata": {
    "slideshow": {
     "slide_type": "subslide"
    }
   },
   "source": [
    "* The focus is on python for data analysis\n",
    "  * The objectives are to be able to input and manipulate data, make calculations and graphs\n",
    "  * The general direction is statistics, math, data visualization"
   ]
  },
  {
   "cell_type": "markdown",
   "metadata": {
    "slideshow": {
     "slide_type": "slide"
    }
   },
   "source": [
    "### Motivation"
   ]
  },
  {
   "cell_type": "markdown",
   "metadata": {
    "slideshow": {
     "slide_type": "subslide"
    }
   },
   "source": [
    "* Python is more than data manipulation and analysis, that is only the subject of this particular tutorial\n",
    "* It can be used for web programming, for database access, process automation\n",
    "* Light programs that can be run in different platforms and operative systems: It is an interpreted language"
   ]
  },
  {
   "cell_type": "markdown",
   "metadata": {
    "slideshow": {
     "slide_type": "subslide"
    }
   },
   "source": [
    "* Python has (by design) a very neat style, easy to read and debug\n",
    "* There is a very active and supportive community, and lots of online resources"
   ]
  },
  {
   "cell_type": "markdown",
   "metadata": {
    "slideshow": {
     "slide_type": "subslide"
    }
   },
   "source": [
    "* A very efficient language: few lines do much\n",
    "* There is a big number of libraries for very specific purposes, particularly in science and technology\n",
    "  * Example: _pysolar_"
   ]
  },
  {
   "cell_type": "code",
   "execution_count": 2,
   "metadata": {
    "ExecuteTime": {
     "end_time": "2021-11-11T09:21:46.971667Z",
     "start_time": "2021-11-11T09:21:46.969510Z"
    },
    "slideshow": {
     "slide_type": "subslide"
    }
   },
   "outputs": [],
   "source": [
    "import pysolar\n",
    "import datetime"
   ]
  },
  {
   "cell_type": "code",
   "execution_count": 3,
   "metadata": {
    "ExecuteTime": {
     "end_time": "2021-11-11T09:21:59.306602Z",
     "start_time": "2021-11-11T09:21:59.304699Z"
    },
    "slideshow": {
     "slide_type": "fragment"
    }
   },
   "outputs": [],
   "source": [
    "HNEE_coordinates = [ 52.82550, 13.81082 ]"
   ]
  },
  {
   "cell_type": "code",
   "execution_count": 5,
   "metadata": {
    "ExecuteTime": {
     "end_time": "2021-11-11T09:22:41.788071Z",
     "start_time": "2021-11-11T09:22:41.784874Z"
    },
    "slideshow": {
     "slide_type": "fragment"
    }
   },
   "outputs": [
    {
     "name": "stdout",
     "output_type": "stream",
     "text": [
      "2021-11-11 09:22:41.785804+00:00\n",
      "17.27637600365869\n"
     ]
    }
   ],
   "source": [
    "# We print the solar altitude today\n",
    "date = datetime.datetime.now( datetime.timezone.utc ) \n",
    "print( date )\n",
    "print( pysolar.solar.get_altitude( HNEE_coordinates[0], HNEE_coordinates[1], date) )"
   ]
  },
  {
   "cell_type": "code",
   "execution_count": 6,
   "metadata": {
    "ExecuteTime": {
     "end_time": "2021-11-11T09:23:43.474887Z",
     "start_time": "2021-11-11T09:23:43.470919Z"
    },
    "slideshow": {
     "slide_type": "fragment"
    }
   },
   "outputs": [
    {
     "name": "stdout",
     "output_type": "stream",
     "text": [
      "58.913669690551096\n"
     ]
    }
   ],
   "source": [
    "# We print the solar altitude on the past summer solstice\n",
    "date = datetime.datetime( 2021, 6, 21, 12, 0, 0, tzinfo=datetime.timezone.utc )\n",
    "print( pysolar.solar.get_altitude( HNEE_coordinates[0], HNEE_coordinates[1], date) )"
   ]
  },
  {
   "cell_type": "code",
   "execution_count": 7,
   "metadata": {
    "ExecuteTime": {
     "end_time": "2021-11-11T09:24:07.777328Z",
     "start_time": "2021-11-11T09:24:07.773557Z"
    },
    "slideshow": {
     "slide_type": "fragment"
    }
   },
   "outputs": [
    {
     "name": "stdout",
     "output_type": "stream",
     "text": [
      "14.180438621204742\n"
     ]
    }
   ],
   "source": [
    "# We print the solar altitude on the next winter solstice\n",
    "date = datetime.datetime( 2021, 1, 7, 12, 0, 0, tzinfo=datetime.timezone.utc )\n",
    "print( pysolar.solar.get_altitude( HNEE_coordinates[0], HNEE_coordinates[1], date) )"
   ]
  },
  {
   "cell_type": "markdown",
   "metadata": {
    "slideshow": {
     "slide_type": "slide"
    }
   },
   "source": [
    "### How this course is organized"
   ]
  },
  {
   "cell_type": "markdown",
   "metadata": {
    "slideshow": {
     "slide_type": "subslide"
    }
   },
   "source": [
    "* Session 1. This introduction\n",
    "* Session 2: jupyter notebooks\n",
    "* Session 3: Working with data: pandas library\n",
    "* Session 4: Graphs: matplotlib library\n",
    "* Session 5: More graphs with matplotlib"
   ]
  },
  {
   "cell_type": "markdown",
   "metadata": {
    "slideshow": {
     "slide_type": "slide"
    }
   },
   "source": [
    "### Tools, requirements, libraries"
   ]
  },
  {
   "cell_type": "markdown",
   "metadata": {
    "slideshow": {
     "slide_type": "slide"
    }
   },
   "source": [
    "* python 3.x\n",
    "* ipython\n",
    "* jupyter\n",
    "\n",
    "---\n",
    "\n",
    "* Libraries:\n",
    "  * numpy\n",
    "  * pandas\n",
    "  * matplotlib"
   ]
  },
  {
   "cell_type": "markdown",
   "metadata": {
    "slideshow": {
     "slide_type": "subslide"
    }
   },
   "source": [
    "All the previous are included in the ___anaconda___ bundle!!"
   ]
  },
  {
   "cell_type": "markdown",
   "metadata": {
    "slideshow": {
     "slide_type": "subslide"
    }
   },
   "source": [
    "![title](../misc/img/anaconda_navigator.png)"
   ]
  },
  {
   "cell_type": "markdown",
   "metadata": {
    "slideshow": {
     "slide_type": "slide"
    }
   },
   "source": [
    "### Further reading and resources"
   ]
  },
  {
   "cell_type": "markdown",
   "metadata": {
    "slideshow": {
     "slide_type": "fragment"
    }
   },
   "source": [
    "https://wiki.python.org/moin/BeginnersGuide/NonProgrammers\n",
    "\n",
    "https://automatetheboringstuff.com/\n",
    "\n",
    "https://en.wikipedia.org/wiki/Anaconda_(Python_distribution)\n",
    "\n",
    "https://www.anaconda.com/\n",
    "\n",
    "http://docs.pysolar.org/en/latest/"
   ]
  },
  {
   "cell_type": "markdown",
   "metadata": {
    "slideshow": {
     "slide_type": "fragment"
    }
   },
   "source": [
    "# <center>*</center>"
   ]
  }
 ],
 "metadata": {
  "celltoolbar": "Slideshow",
  "kernelspec": {
   "display_name": "Python 3 (ipykernel)",
   "language": "python",
   "name": "python3"
  },
  "language_info": {
   "codemirror_mode": {
    "name": "ipython",
    "version": 3
   },
   "file_extension": ".py",
   "mimetype": "text/x-python",
   "name": "python",
   "nbconvert_exporter": "python",
   "pygments_lexer": "ipython3",
   "version": "3.8.10"
  },
  "toc": {
   "base_numbering": 1,
   "nav_menu": {},
   "number_sections": true,
   "sideBar": true,
   "skip_h1_title": true,
   "title_cell": "Table of Contents",
   "title_sidebar": "Contents",
   "toc_cell": false,
   "toc_position": {},
   "toc_section_display": true,
   "toc_window_display": false
  },
  "varInspector": {
   "cols": {
    "lenName": 16,
    "lenType": 16,
    "lenVar": 40
   },
   "kernels_config": {
    "python": {
     "delete_cmd_postfix": "",
     "delete_cmd_prefix": "del ",
     "library": "var_list.py",
     "varRefreshCmd": "print(var_dic_list())"
    },
    "r": {
     "delete_cmd_postfix": ") ",
     "delete_cmd_prefix": "rm(",
     "library": "var_list.r",
     "varRefreshCmd": "cat(var_dic_list()) "
    }
   },
   "types_to_exclude": [
    "module",
    "function",
    "builtin_function_or_method",
    "instance",
    "_Feature"
   ],
   "window_display": false
  }
 },
 "nbformat": 4,
 "nbformat_minor": 2
}
