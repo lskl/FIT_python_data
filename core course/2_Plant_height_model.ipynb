{
 "cells": [
  {
   "cell_type": "markdown",
   "metadata": {
    "toc": true
   },
   "source": [
    "<h1>Table of Contents<span class=\"tocSkip\"></span></h1>\n",
    "<div class=\"toc\"><ul class=\"toc-item\"><li><span><a href=\"#Plant-growth-as-a-function-of-the-temperature-sum\" data-toc-modified-id=\"Plant-growth-as-a-function-of-the-temperature-sum-1\"><span class=\"toc-item-num\">1&nbsp;&nbsp;</span>Plant growth as a function of the temperature sum</a></span><ul class=\"toc-item\"><li><span><a href=\"#First-step:-A-function-to-calculate-the-temperature-sum\" data-toc-modified-id=\"First-step:-A-function-to-calculate-the-temperature-sum-1.1\"><span class=\"toc-item-num\">1.1&nbsp;&nbsp;</span>First step: A function to calculate the temperature sum</a></span><ul class=\"toc-item\"><li><span><a href=\"#A-function-for-the-temperature-sum\" data-toc-modified-id=\"A-function-for-the-temperature-sum-1.1.1\"><span class=\"toc-item-num\">1.1.1&nbsp;&nbsp;</span>A function for the temperature sum</a></span></li></ul></li><li><span><a href=\"#Second-step:-A-function-that-reuses-the-previous-one,-to-calculate-the-temperature-sum-for-each-day\" data-toc-modified-id=\"Second-step:-A-function-that-reuses-the-previous-one,-to-calculate-the-temperature-sum-for-each-day-1.2\"><span class=\"toc-item-num\">1.2&nbsp;&nbsp;</span>Second step: A function that reuses the previous one, to calculate the temperature sum for each day</a></span><ul class=\"toc-item\"><li><span><a href=\"#A-function-for-many-temperature-sums-at-once\" data-toc-modified-id=\"A-function-for-many-temperature-sums-at-once-1.2.1\"><span class=\"toc-item-num\">1.2.1&nbsp;&nbsp;</span>A function for many temperature sums at once</a></span></li></ul></li><li><span><a href=\"#Third-step:-Calculating-plant-growth\" data-toc-modified-id=\"Third-step:-Calculating-plant-growth-1.3\"><span class=\"toc-item-num\">1.3&nbsp;&nbsp;</span>Third step: Calculating plant growth</a></span><ul class=\"toc-item\"><li><span><a href=\"#A-function-to-calculate-plant-growth\" data-toc-modified-id=\"A-function-to-calculate-plant-growth-1.3.1\"><span class=\"toc-item-num\">1.3.1&nbsp;&nbsp;</span>A function to calculate plant growth</a></span></li></ul></li></ul></li><li><span><a href=\"#Libraries\" data-toc-modified-id=\"Libraries-2\"><span class=\"toc-item-num\">2&nbsp;&nbsp;</span>Libraries</a></span></li></ul></div>"
   ]
  },
  {
   "cell_type": "markdown",
   "metadata": {
    "slideshow": {
     "slide_type": "subslide"
    }
   },
   "source": [
    "# A simple plant height growth model"
   ]
  },
  {
   "cell_type": "markdown",
   "metadata": {
    "slideshow": {
     "slide_type": "fragment"
    }
   },
   "source": [
    "Taken from: *Introduction ot mathematical modeling of crop growth*, by Christopher Teh. \n",
    "(published in 2006 by BrownWalker Press)"
   ]
  },
  {
   "cell_type": "markdown",
   "metadata": {
    "slideshow": {
     "slide_type": "subslide"
    }
   },
   "source": [
    "## Plant growth as a function of the temperature sum"
   ]
  },
  {
   "cell_type": "markdown",
   "metadata": {
    "slideshow": {
     "slide_type": "subslide"
    }
   },
   "source": [
    "We will show the usage of python functions with a simple model of plant growth.\n",
    "\n",
    "The idea behind this model is that plants grow more when the temperatures are higher, but stop growing at some point. This point is the maximum growth. The growth is then a function(!) of the temperature. This temperature is only taken into account if it surpasses a ___base temperature___, which is dependent on the plant. "
   ]
  },
  {
   "cell_type": "markdown",
   "metadata": {
    "slideshow": {
     "slide_type": "subslide"
    }
   },
   "source": [
    "$$ \\huge h_{ts}  =  \\frac{ h_m }{ 1 + b_0 \\cdot e^{-b_1 \\cdot T_{\\Sigma_{ts}}}} $$"
   ]
  },
  {
   "cell_type": "markdown",
   "metadata": {
    "slideshow": {
     "slide_type": "subslide"
    }
   },
   "source": [
    "Where:\n",
    "\n",
    "$\\large h_{ts}: $ height at time $s$ in $[m]$\n",
    "\n",
    "$\\large h_{m}: $ maximum possible height of the plant in $[m]$\n",
    "\n",
    "$\\large b_0: $ intercept parameter (unitless)\n",
    "\n",
    "$\\large b_1: $ slope parameter in $[^\\circ C^{-1} \\cdot day^{-1} ]$\n",
    "\n",
    "$\\large T_{\\Sigma_{ts}} :$ temperature sum (above the base temperature) at time $s$ in $[^\\circ C \\cdot day ]$"
   ]
  },
  {
   "cell_type": "markdown",
   "metadata": {
    "slideshow": {
     "slide_type": "slide"
    }
   },
   "source": [
    "### First step: A function to calculate the temperature sum"
   ]
  },
  {
   "cell_type": "markdown",
   "metadata": {
    "slideshow": {
     "slide_type": "fragment"
    }
   },
   "source": [
    "Let's suppose a number of daily average temperatures over 9 days:"
   ]
  },
  {
   "cell_type": "code",
   "execution_count": 14,
   "metadata": {
    "ExecuteTime": {
     "end_time": "2021-11-10T18:51:05.506871Z",
     "start_time": "2021-11-10T18:51:05.504326Z"
    },
    "slideshow": {
     "slide_type": "fragment"
    }
   },
   "outputs": [],
   "source": [
    "t = [ item+1 for item in range(9) ]\n",
    "temp_avg = [ 4, 5, 8, 10, 12, 10, 8, 5, 8 ]\n",
    "temp_base = 5 # General plant growth - Table 7.6, pag. 153"
   ]
  },
  {
   "cell_type": "code",
   "execution_count": 15,
   "metadata": {
    "ExecuteTime": {
     "end_time": "2021-11-10T18:51:05.633399Z",
     "start_time": "2021-11-10T18:51:05.631008Z"
    },
    "slideshow": {
     "slide_type": "fragment"
    }
   },
   "outputs": [
    {
     "name": "stdout",
     "output_type": "stream",
     "text": [
      "[1, 2, 3, 4, 5, 6, 7, 8, 9]\n"
     ]
    }
   ],
   "source": [
    "print( t )"
   ]
  },
  {
   "cell_type": "code",
   "execution_count": 16,
   "metadata": {
    "ExecuteTime": {
     "end_time": "2021-11-10T18:51:05.778504Z",
     "start_time": "2021-11-10T18:51:05.775494Z"
    },
    "slideshow": {
     "slide_type": "subslide"
    }
   },
   "outputs": [],
   "source": [
    "%matplotlib inline\n",
    "import matplotlib.pyplot as plt\n",
    "plt.ioff();"
   ]
  },
  {
   "cell_type": "code",
   "execution_count": 17,
   "metadata": {
    "ExecuteTime": {
     "end_time": "2021-11-10T18:51:05.930473Z",
     "start_time": "2021-11-10T18:51:05.926779Z"
    },
    "slideshow": {
     "slide_type": "subslide"
    }
   },
   "outputs": [],
   "source": [
    "def makegraph():\n",
    "    fig, ax = plt.subplots( nrows=1, ncols=1, figsize=(10,5) )\n",
    "\n",
    "    ax.plot( t, temp_avg, linewidth=3, marker='s', markersize=10, color='red', label='Daily average temperaure' )\n",
    "    ax.plot( t, [temp_base]*len(t), linewidth=3, color='green', label='Base temperature' )\n",
    "\n",
    "    ax.set_ylabel( 'Temperature $[^\\circ C]$', fontsize=14 )\n",
    "    ax.set_xlabel( 'Time [$days$]', fontsize=14 )\n",
    "\n",
    "    ax.legend()\n",
    "    \n",
    "    plt.show()"
   ]
  },
  {
   "cell_type": "code",
   "execution_count": 18,
   "metadata": {
    "ExecuteTime": {
     "end_time": "2021-11-10T18:51:06.232883Z",
     "start_time": "2021-11-10T18:51:06.087242Z"
    },
    "scrolled": false,
    "slideshow": {
     "slide_type": "subslide"
    }
   },
   "outputs": [
    {
     "data": {
      "image/png": "[encoded data removed]",
      "text/plain": [
       "<Figure size 720x360 with 1 Axes>"
      ]
     },
     "metadata": {
      "needs_background": "light"
     },
     "output_type": "display_data"
    }
   ],
   "source": [
    "makegraph()"
   ]
  },
  {
   "cell_type": "markdown",
   "metadata": {},
   "source": [
    "#### A function for the temperature sum"
   ]
  },
  {
   "cell_type": "markdown",
   "metadata": {
    "slideshow": {
     "slide_type": "subslide"
    }
   },
   "source": [
    "Now, a function that calculates the temperature sum after those 9 days:"
   ]
  },
  {
   "cell_type": "code",
   "execution_count": 19,
   "metadata": {
    "ExecuteTime": {
     "end_time": "2021-11-10T18:51:08.139218Z",
     "start_time": "2021-11-10T18:51:08.130631Z"
    },
    "slideshow": {
     "slide_type": "fragment"
    }
   },
   "outputs": [],
   "source": [
    "def temperature_sum( temp_avgs, temp_base ):\n",
    "\n",
    "    temperatures_above = []\n",
    "    for element in temp_avgs:\n",
    "        temperatures_above = temperatures_above + [ element - temp_base ]\n",
    "\n",
    "    temperature_sum = 0\n",
    "    for element in temperatures_above:\n",
    "        if element>0:\n",
    "            temperature_sum = temperature_sum + element\n",
    "\n",
    "    return temperature_sum"
   ]
  },
  {
   "cell_type": "markdown",
   "metadata": {
    "slideshow": {
     "slide_type": "subslide"
    }
   },
   "source": [
    "We had, from before, two variables already:"
   ]
  },
  {
   "cell_type": "code",
   "execution_count": 20,
   "metadata": {
    "ExecuteTime": {
     "end_time": "2021-11-10T18:51:14.537694Z",
     "start_time": "2021-11-10T18:51:14.529781Z"
    },
    "slideshow": {
     "slide_type": "fragment"
    }
   },
   "outputs": [
    {
     "name": "stdout",
     "output_type": "stream",
     "text": [
      "[4, 5, 8, 10, 12, 10, 8, 5, 8]\n",
      "5\n"
     ]
    }
   ],
   "source": [
    "print( temp_avg )\n",
    "print( temp_base )"
   ]
  },
  {
   "cell_type": "markdown",
   "metadata": {
    "slideshow": {
     "slide_type": "fragment"
    }
   },
   "source": [
    "The function is then called with the variables previously defined:"
   ]
  },
  {
   "cell_type": "code",
   "execution_count": 21,
   "metadata": {
    "ExecuteTime": {
     "end_time": "2021-11-10T18:51:14.786478Z",
     "start_time": "2021-11-10T18:51:14.783623Z"
    },
    "slideshow": {
     "slide_type": "fragment"
    }
   },
   "outputs": [
    {
     "name": "stdout",
     "output_type": "stream",
     "text": [
      "26\n"
     ]
    }
   ],
   "source": [
    "print( temperature_sum( temp_avg, temp_base ) )"
   ]
  },
  {
   "cell_type": "markdown",
   "metadata": {
    "slideshow": {
     "slide_type": "fragment"
    }
   },
   "source": [
    "Note that that is the temperature sum (in $[^\\circ C \\cdot day]$) after the whole 9 days!!"
   ]
  },
  {
   "cell_type": "markdown",
   "metadata": {
    "slideshow": {
     "slide_type": "subslide"
    }
   },
   "source": [
    "It is possible to reuse the function with a different number of days in the first list, as it was not defined to iterate exactly 9 times:"
   ]
  },
  {
   "cell_type": "code",
   "execution_count": 22,
   "metadata": {
    "ExecuteTime": {
     "end_time": "2021-11-10T18:51:15.178548Z",
     "start_time": "2021-11-10T18:51:15.175165Z"
    },
    "slideshow": {
     "slide_type": "fragment"
    }
   },
   "outputs": [
    {
     "name": "stdout",
     "output_type": "stream",
     "text": [
      "3\n",
      "15\n",
      "26\n"
     ]
    }
   ],
   "source": [
    "print( temperature_sum( [4, 5, 8], temp_base ) )\n",
    "print( temperature_sum( [4, 5, 8, 10, 12], temp_base ) )\n",
    "print( temperature_sum( [4, 5, 8, 10, 12, 10, 8, 5, 8], temp_base ) )"
   ]
  },
  {
   "cell_type": "markdown",
   "metadata": {
    "slideshow": {
     "slide_type": "fragment"
    }
   },
   "source": [
    "We will use this fact to create a list of average sums up to each day, from day 1, 1 to 2, 1 to 3 and so on."
   ]
  },
  {
   "cell_type": "markdown",
   "metadata": {
    "slideshow": {
     "slide_type": "slide"
    }
   },
   "source": [
    "### Second step: A function that reuses the previous one, to calculate the temperature sum for each day"
   ]
  },
  {
   "cell_type": "markdown",
   "metadata": {
    "slideshow": {
     "slide_type": "fragment"
    }
   },
   "source": [
    "We can reuse the defined function using a ___for___ loop in the following way:"
   ]
  },
  {
   "cell_type": "code",
   "execution_count": 28,
   "metadata": {
    "ExecuteTime": {
     "end_time": "2020-10-22T12:40:18.674402Z",
     "start_time": "2020-10-22T12:40:18.669149Z"
    },
    "slideshow": {
     "slide_type": "fragment"
    }
   },
   "outputs": [
    {
     "name": "stdout",
     "output_type": "stream",
     "text": [
      "[0, 0, 3, 8, 15, 20, 23, 23, 26]\n"
     ]
    }
   ],
   "source": [
    "day_temperature_sums = []\n",
    "for i in range(len(temp_avg)):\n",
    "    day_temperature_sums = day_temperature_sums + [ temperature_sum( temp_avg[:i+1], temp_base ) ]\n",
    "print( day_temperature_sums )"
   ]
  },
  {
   "cell_type": "markdown",
   "metadata": {
    "slideshow": {
     "slide_type": "subslide"
    }
   },
   "source": [
    "#### A function for many temperature sums at once"
   ]
  },
  {
   "cell_type": "markdown",
   "metadata": {
    "slideshow": {
     "slide_type": "fragment"
    }
   },
   "source": [
    "Alternatively, we can define a second function, wrap that piece of program in it, and use it afterwards."
   ]
  },
  {
   "cell_type": "code",
   "execution_count": 11,
   "metadata": {
    "ExecuteTime": {
     "end_time": "2021-11-10T18:48:46.569818Z",
     "start_time": "2021-11-10T18:48:46.561508Z"
    },
    "slideshow": {
     "slide_type": "fragment"
    }
   },
   "outputs": [],
   "source": [
    "def day_temperature_sums( temp_avgs, temp_base ):\n",
    "    \n",
    "    day_temperature_sums = []\n",
    "    for i in range(len(temp_avgs)):\n",
    "        current_sum = temperature_sum( temp_avgs[:i+1], temp_base )\n",
    "        day_temperature_sums = day_temperature_sums + [ current_sum ]\n",
    "#        print( i, current_sum, day_temperature_sums ) # Activate this line to see partial results\n",
    "        \n",
    "    return day_temperature_sums"
   ]
  },
  {
   "cell_type": "code",
   "execution_count": 12,
   "metadata": {
    "ExecuteTime": {
     "end_time": "2021-11-10T18:48:46.720555Z",
     "start_time": "2021-11-10T18:48:46.717663Z"
    },
    "slideshow": {
     "slide_type": "fragment"
    }
   },
   "outputs": [
    {
     "name": "stdout",
     "output_type": "stream",
     "text": [
      "[0, 0, 3, 8, 15, 20, 23, 23, 26]\n"
     ]
    }
   ],
   "source": [
    "dts = day_temperature_sums( temp_avg, temp_base )\n",
    "print( dts )"
   ]
  },
  {
   "cell_type": "markdown",
   "metadata": {
    "slideshow": {
     "slide_type": "subslide"
    }
   },
   "source": [
    "We can then have a look a the cummulative temperatures over the 9-days range"
   ]
  },
  {
   "cell_type": "code",
   "execution_count": 13,
   "metadata": {
    "ExecuteTime": {
     "end_time": "2021-11-10T18:48:49.785664Z",
     "start_time": "2021-11-10T18:48:49.777796Z"
    },
    "slideshow": {
     "slide_type": "subslide"
    }
   },
   "outputs": [],
   "source": [
    "def makegraph():\n",
    "    fig, ax = plt.subplots( nrows=1, ncols=1, figsize=(10,5) )\n",
    "\n",
    "    ax.plot( t, temp_avg, linewidth=3, marker='s', markersize=10, color='red', label='Daily average temperaure' )\n",
    "    ax.plot( t, dts, linewidth=3, marker='*', markersize=10, color='blue', label='Daily average temperaure' )\n",
    "    ax.plot( t, [temp_base]*len(t), linewidth=3, color='green', label='Base temperature' )\n",
    "\n",
    "    ax.set_ylabel( 'Temperature $[^\\circ C]$', fontsize=14 )\n",
    "    ax.set_xlabel( 'Time [$days$]', fontsize=14 )\n",
    "\n",
    "    ax.legend()\n",
    "    \n",
    "    plt.show()"
   ]
  },
  {
   "cell_type": "code",
   "execution_count": 23,
   "metadata": {
    "ExecuteTime": {
     "end_time": "2021-11-10T18:53:13.992030Z",
     "start_time": "2021-11-10T18:53:13.853267Z"
    },
    "slideshow": {
     "slide_type": "subslide"
    }
   },
   "outputs": [
    {
     "data": {
      "image/png": "[encoded data removed]",
      "text/plain": [
       "<Figure size 720x360 with 1 Axes>"
      ]
     },
     "metadata": {
      "needs_background": "light"
     },
     "output_type": "display_data"
    }
   ],
   "source": [
    "makegraph()"
   ]
  },
  {
   "cell_type": "markdown",
   "metadata": {
    "slideshow": {
     "slide_type": "slide"
    }
   },
   "source": [
    "### Third step: Calculating plant growth"
   ]
  },
  {
   "cell_type": "markdown",
   "metadata": {
    "slideshow": {
     "slide_type": "subslide"
    }
   },
   "source": [
    "Lastly, having the temperature sums for each day, we can calculate the plant height growth for each day using the formula from Mr. Teh:"
   ]
  },
  {
   "cell_type": "markdown",
   "metadata": {
    "slideshow": {
     "slide_type": "fragment"
    }
   },
   "source": [
    "$$ \\huge h_{ts}  =  \\frac{ h_m }{ 1 + b_0 \\cdot e^{-b_1 \\cdot T_{\\Sigma_{ts}}}} $$"
   ]
  },
  {
   "cell_type": "markdown",
   "metadata": {
    "slideshow": {
     "slide_type": "fragment"
    }
   },
   "source": [
    "The formula includes other parameters: plant maximum height and two coefficients (most commonly from field experiments).\n",
    "    \n",
    "We therefore define a function that accepts all four parameters."
   ]
  },
  {
   "cell_type": "markdown",
   "metadata": {
    "slideshow": {
     "slide_type": "fragment"
    }
   },
   "source": [
    "#### A function to calculate plant growth"
   ]
  },
  {
   "cell_type": "code",
   "execution_count": 41,
   "metadata": {
    "ExecuteTime": {
     "end_time": "2020-10-22T12:52:07.692333Z",
     "start_time": "2020-10-22T12:52:07.684695Z"
    },
    "slideshow": {
     "slide_type": "fragment"
    }
   },
   "outputs": [],
   "source": [
    "def plant_height( temperature_sum, hm, b0, b1 ):\n",
    "    \n",
    "    import numpy as np\n",
    "    \n",
    "    return hm / ( 1 + b0 * np.exp( -1 * b1 * temperature_sum ) )"
   ]
  },
  {
   "cell_type": "markdown",
   "metadata": {
    "slideshow": {
     "slide_type": "fragment"
    }
   },
   "source": [
    "It is a very simple function: it accepts four parameters, makes a calculation and returns a single value, meaning the height of the plants under those conditions."
   ]
  },
  {
   "cell_type": "markdown",
   "metadata": {
    "slideshow": {
     "slide_type": "subslide"
    }
   },
   "source": [
    "Note the use of the ___numpy___ library. It is a very useful library for mathematical calculations. Its name stands for \"numeric python\", and we need it here to calculate the exponential function in the denominator."
   ]
  },
  {
   "cell_type": "markdown",
   "metadata": {
    "slideshow": {
     "slide_type": "subslide"
    }
   },
   "source": [
    "To test the function, we will suppose a maximum plant height of 60 cm, and two coefficientes $b_0=10$ and $b_1=0.05$."
   ]
  },
  {
   "cell_type": "code",
   "execution_count": 42,
   "metadata": {
    "ExecuteTime": {
     "end_time": "2020-10-22T12:52:20.294582Z",
     "start_time": "2020-10-22T12:52:20.291174Z"
    },
    "slideshow": {
     "slide_type": "fragment"
    }
   },
   "outputs": [
    {
     "name": "stdout",
     "output_type": "stream",
     "text": [
      "[0.05454545454545454, 0.05454545454545454, 0.06245394175165406, 0.07788970351840495, 0.1048279283837693, 0.12823816291174578, 0.14401033324404555, 0.14401033324404555, 0.1610600789568635]\n"
     ]
    }
   ],
   "source": [
    "b0 = 10\n",
    "b1 = 0.05\n",
    "max_height = 0.6 # in meters\n",
    "\n",
    "heights = []\n",
    "for element in dts:\n",
    "    current_height = plant_height( element, max_height, b0, b1 )\n",
    "    heights = heights + [ current_height ]\n",
    "#    print( element, current_height, heights ) # Activate this line to see partial results\n",
    "\n",
    "print( heights )"
   ]
  },
  {
   "cell_type": "markdown",
   "metadata": {
    "slideshow": {
     "slide_type": "subslide"
    }
   },
   "source": [
    "Lastly, a graph to see how the plants' growth increases with the given temperatures:"
   ]
  },
  {
   "cell_type": "code",
   "execution_count": 43,
   "metadata": {
    "ExecuteTime": {
     "end_time": "2020-10-22T12:53:43.474711Z",
     "start_time": "2020-10-22T12:53:43.468865Z"
    },
    "slideshow": {
     "slide_type": "subslide"
    }
   },
   "outputs": [],
   "source": [
    "def makegraph():\n",
    "    fig, ax = plt.subplots( nrows=1, ncols=1, figsize=(10,5) )\n",
    "\n",
    "    ax.plot( t, heights, linewidth=2, marker='o', markersize=10, color='black', label='Cummulative growth' )\n",
    "\n",
    "    ax.set_ylabel( 'Growth in height $[m]$', fontsize=14 )\n",
    "    ax.set_xlabel( 'Time [$days$]', fontsize=14 )\n",
    "\n",
    "    ax.legend()\n",
    "\n",
    "    plt.show()"
   ]
  },
  {
   "cell_type": "code",
   "execution_count": 44,
   "metadata": {
    "ExecuteTime": {
     "end_time": "2020-10-22T12:53:46.799598Z",
     "start_time": "2020-10-22T12:53:46.629341Z"
    },
    "slideshow": {
     "slide_type": "fragment"
    }
   },
   "outputs": [
    {
     "data": {
      "image/png": "[encoded data removed]",
      "text/plain": [
       "<Figure size 720x360 with 1 Axes>"
      ]
     },
     "metadata": {
      "needs_background": "light"
     },
     "output_type": "display_data"
    }
   ],
   "source": [
    "makegraph()"
   ]
  },
  {
   "cell_type": "code",
   "execution_count": 45,
   "metadata": {
    "ExecuteTime": {
     "end_time": "2020-10-22T12:53:55.587787Z",
     "start_time": "2020-10-22T12:53:55.576226Z"
    },
    "slideshow": {
     "slide_type": "subslide"
    }
   },
   "outputs": [],
   "source": [
    "def makegraph():\n",
    "    fig, ax = plt.subplots( nrows=1, ncols=1, figsize=(10,5) )\n",
    "\n",
    "    ax.plot( t, temp_avg, linewidth=3, marker='s', markersize=10, color='red', label='Daily average temperaure' )\n",
    "    ax.plot( t, dts, linewidth=3, marker='*', markersize=10, color='blue', label='Daily average temperaure' )\n",
    "    ax.plot( t, [temp_base]*len(t), linewidth=3, color='green', label='Base temperature' )\n",
    "\n",
    "    ax.set_ylabel( 'Temperature $[^\\circ C]$', fontsize=14 )\n",
    "    ax.set_xlabel( 'Time [$days$]', fontsize=14 )\n",
    "\n",
    "    axR = fig.add_subplot(111, sharex=ax, frameon=False)\n",
    "    axR.plot( t, heights, linewidth=2, marker='o', markersize=10, color='black', label='Cummulative growth' )\n",
    "    axR.set_ylabel( 'Growth in height $[m]$', fontsize=14 )\n",
    "    axR.yaxis.tick_right()\n",
    "    axR.yaxis.set_label_position(\"right\")\n",
    "\n",
    "    ax.legend()\n",
    "    axR.legend(loc=1)\n",
    "\n",
    "    plt.show()"
   ]
  },
  {
   "cell_type": "code",
   "execution_count": 46,
   "metadata": {
    "ExecuteTime": {
     "end_time": "2020-10-22T12:53:58.221456Z",
     "start_time": "2020-10-22T12:53:57.992294Z"
    },
    "slideshow": {
     "slide_type": "subslide"
    }
   },
   "outputs": [
    {
     "data": {
      "image/png": "[encoded data removed]",
      "text/plain": [
       "<Figure size 720x360 with 2 Axes>"
      ]
     },
     "metadata": {
      "needs_background": "light"
     },
     "output_type": "display_data"
    }
   ],
   "source": [
    "makegraph()"
   ]
  },
  {
   "cell_type": "markdown",
   "metadata": {
    "slideshow": {
     "slide_type": "slide"
    }
   },
   "source": [
    "## Libraries"
   ]
  },
  {
   "cell_type": "markdown",
   "metadata": {
    "slideshow": {
     "slide_type": "subslide"
    }
   },
   "source": [
    "Sometimes, we are happy with a piece of code and hope to use it again in the future. We can then save it to a file in the hard disk, and later on call the functions in it without bothering to copy-paste the code each time. \n",
    "\n",
    "Files containing functions (or constants) are called ___libraries___, and build a very important part of many programming projects.\n",
    "\n",
    "There is a number of libraries already written and ready-to-use (remember _pysolar_?), but we can also make our own, either to share or to use them ourselves."
   ]
  },
  {
   "cell_type": "markdown",
   "metadata": {
    "slideshow": {
     "slide_type": "subslide"
    }
   },
   "source": [
    "A library is just the code saved in a raw-text file.\n",
    "\n",
    "We will make a library with the functions defined previously for the plant height growth calculation."
   ]
  },
  {
   "cell_type": "markdown",
   "metadata": {
    "slideshow": {
     "slide_type": "subslide"
    }
   },
   "source": [
    "<img src='misc/img/library.png' width='800'>"
   ]
  },
  {
   "cell_type": "markdown",
   "metadata": {
    "slideshow": {
     "slide_type": "subslide"
    }
   },
   "source": [
    "To use a custom library, we use the ___import___ statement, which we used before for ___numpy___."
   ]
  },
  {
   "cell_type": "markdown",
   "metadata": {
    "slideshow": {
     "slide_type": "fragment"
    }
   },
   "source": [
    "We can either import the whole library:"
   ]
  },
  {
   "cell_type": "code",
   "execution_count": 36,
   "metadata": {
    "slideshow": {
     "slide_type": "fragment"
    }
   },
   "outputs": [],
   "source": [
    "import plantheight"
   ]
  },
  {
   "cell_type": "markdown",
   "metadata": {
    "slideshow": {
     "slide_type": "fragment"
    }
   },
   "source": [
    "Or single functions that we need:"
   ]
  },
  {
   "cell_type": "code",
   "execution_count": 37,
   "metadata": {
    "slideshow": {
     "slide_type": "fragment"
    }
   },
   "outputs": [],
   "source": [
    "from plantheight import day_temperature_sums"
   ]
  },
  {
   "cell_type": "markdown",
   "metadata": {
    "slideshow": {
     "slide_type": "subslide"
    }
   },
   "source": [
    "If we import the complete library, we can use it like follows (it is the same example):"
   ]
  },
  {
   "cell_type": "code",
   "execution_count": 52,
   "metadata": {
    "slideshow": {
     "slide_type": "subslide"
    }
   },
   "outputs": [
    {
     "name": "stdout",
     "output_type": "stream",
     "text": [
      "[0.045454545454545456, 0.045454545454545456, 0.059465885455551905, 0.09102014141990604, 0.15473640707828853, 0.2124628288301699, 0.24967686355569643, 0.24967686355569643, 0.2869052240294653]\n"
     ]
    }
   ],
   "source": [
    "import plantheight\n",
    "\n",
    "temp_avg = [ 4, 5, 8, 10, 12, 10, 8, 5, 8 ]\n",
    "temp_base = 5\n",
    "\n",
    "dts = plantheight.day_temperature_sums( temp_avg, temp_base )\n",
    "\n",
    "b0 = 10\n",
    "b1 = 0.05\n",
    "max_height = 0.6 # in meters\n",
    "\n",
    "heights = []\n",
    "for element in dts:\n",
    "    current_height = plantheight.plant_height( element, max_height, b0, b1 )\n",
    "    heights = heights + [ current_height ]\n",
    "\n",
    "print( heights )"
   ]
  },
  {
   "cell_type": "markdown",
   "metadata": {
    "slideshow": {
     "slide_type": "subslide"
    }
   },
   "source": [
    "Note that we access a function in a library using the dot operator ___.___"
   ]
  },
  {
   "cell_type": "markdown",
   "metadata": {},
   "source": [
    "---"
   ]
  }
 ],
 "metadata": {
  "celltoolbar": "Slideshow",
  "kernelspec": {
   "display_name": "Python 3 (ipykernel)",
   "language": "python",
   "name": "python3"
  },
  "language_info": {
   "codemirror_mode": {
    "name": "ipython",
    "version": 3
   },
   "file_extension": ".py",
   "mimetype": "text/x-python",
   "name": "python",
   "nbconvert_exporter": "python",
   "pygments_lexer": "ipython3",
   "version": "3.8.10"
  },
  "toc": {
   "base_numbering": 1,
   "nav_menu": {},
   "number_sections": true,
   "sideBar": true,
   "skip_h1_title": true,
   "title_cell": "Table of Contents",
   "title_sidebar": "Contents",
   "toc_cell": true,
   "toc_position": {},
   "toc_section_display": true,
   "toc_window_display": true
  },
  "varInspector": {
   "cols": {
    "lenName": 16,
    "lenType": 16,
    "lenVar": 40
   },
   "kernels_config": {
    "python": {
     "delete_cmd_postfix": "",
     "delete_cmd_prefix": "del ",
     "library": "var_list.py",
     "varRefreshCmd": "print(var_dic_list())"
    },
    "r": {
     "delete_cmd_postfix": ") ",
     "delete_cmd_prefix": "rm(",
     "library": "var_list.r",
     "varRefreshCmd": "cat(var_dic_list()) "
    }
   },
   "types_to_exclude": [
    "module",
    "function",
    "builtin_function_or_method",
    "instance",
    "_Feature"
   ],
   "window_display": false
  }
 },
 "nbformat": 4,
 "nbformat_minor": 2
}
